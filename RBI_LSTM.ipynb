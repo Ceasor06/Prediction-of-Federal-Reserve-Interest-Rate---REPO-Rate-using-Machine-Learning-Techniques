{
  "nbformat": 4,
  "nbformat_minor": 0,
  "metadata": {
    "colab": {
      "provenance": []
    },
    "kernelspec": {
      "name": "python3",
      "display_name": "Python 3"
    },
    "language_info": {
      "name": "python"
    }
  },
  "cells": [
    {
      "cell_type": "code",
      "source": [
        "from google.colab import drive\n",
        "drive.mount('/gdrive', force_remount=True)\n",
        "%cd /gdrive"
      ],
      "metadata": {
        "colab": {
          "base_uri": "https://localhost:8080/"
        },
        "id": "eGc6MtT0DZEt",
        "outputId": "686e934b-b40f-4db6-964b-f029de8dbdc7"
      },
      "execution_count": null,
      "outputs": [
        {
          "output_type": "stream",
          "name": "stdout",
          "text": [
            "Mounted at /gdrive\n",
            "/gdrive\n"
          ]
        }
      ]
    },
    {
      "cell_type": "code",
      "source": [
        "import pandas as pd\n",
        "import numpy as np\n",
        "import seaborn as sb\n",
        "import matplotlib.pyplot as mp\n",
        "df=pd.DataFrame"
      ],
      "metadata": {
        "id": "EigS1x4bExIv"
      },
      "execution_count": null,
      "outputs": []
    },
    {
      "cell_type": "code",
      "source": [
        "df=pd.read_csv('/gdrive/My Drive/RBIB_Economic_dataset.csv')"
      ],
      "metadata": {
        "id": "UbR62K7mDu46"
      },
      "execution_count": null,
      "outputs": []
    },
    {
      "cell_type": "code",
      "execution_count": null,
      "metadata": {
        "colab": {
          "base_uri": "https://localhost:8080/",
          "height": 518
        },
        "id": "LoobAZZzCfG7",
        "outputId": "c5764bf7-4562-4f33-91b5-11158bce57fb"
      },
      "outputs": [
        {
          "output_type": "execute_result",
          "data": {
            "text/plain": [
              "         Date    Index of Industrial Production  Deposits  Credit  \\\n",
              "0  2011-12-01                              2.68     16.98   15.97   \n",
              "1  2011-11-01                              6.01     16.45   17.66   \n",
              "2  2011-10-01                             -4.98     15.29   19.31   \n",
              "3  2011-09-01                               2.5     17.48   19.55   \n",
              "4  2011-08-01                               3.4     17.96   20.68   \n",
              "\n",
              "   Non-food Credit  Investment in Govt. Securities  Reserve Money (M0)  \\\n",
              "0            15.76                           17.15               12.21   \n",
              "1            17.36                           16.09               13.72   \n",
              "2            18.95                           13.61               18.39   \n",
              "3            19.31                           15.63               15.42   \n",
              "4            20.18                           15.34               16.42   \n",
              "\n",
              "   Broad Money (M3)  Cash Reserve Ratio  Statutory Liquidity Ratio  ...  \\\n",
              "0             16.00                 6.0                       24.0  ...   \n",
              "1             15.48                 6.0                       24.0  ...   \n",
              "2             14.88                 6.0                       24.0  ...   \n",
              "3             16.62                 6.0                       24.0  ...   \n",
              "4             17.06                 6.0                       24.0  ...   \n",
              "\n",
              "   3-month (%)  6-month (%) All India Consumer Price Index  \\\n",
              "0         6.76         6.23                            NaN   \n",
              "1         4.98         4.14                            NaN   \n",
              "2         5.73         4.75                            NaN   \n",
              "3         5.15         3.70                            NaN   \n",
              "4         2.91         2.89                            NaN   \n",
              "\n",
              "   Consumer Price Index for Industrial Workers Wholesale Price Index  \\\n",
              "0                                         6.49                  7.74   \n",
              "1                                         9.34                  9.46   \n",
              "2                                         9.39                  9.87   \n",
              "3                                        10.06                 10.00   \n",
              "4                                         8.99                  9.78   \n",
              "\n",
              "   Primary Articles  Fuel and Power  Manufactured Products  Imports Exports  \n",
              "0              3.59           14.98                   7.64    27.08    8.64  \n",
              "1              8.90           15.48                   8.17    35.57    3.08  \n",
              "2             10.96           14.79                   8.05    26.84   23.85  \n",
              "3             12.22           14.02                   8.00    34.71   39.91  \n",
              "4             12.46           12.91                   7.87    47.50   39.54  \n",
              "\n",
              "[5 rows x 40 columns]"
            ],
            "text/html": [
              "\n",
              "  <div id=\"df-2d1bb563-74d4-417c-b619-78aaf2e68556\">\n",
              "    <div class=\"colab-df-container\">\n",
              "      <div>\n",
              "<style scoped>\n",
              "    .dataframe tbody tr th:only-of-type {\n",
              "        vertical-align: middle;\n",
              "    }\n",
              "\n",
              "    .dataframe tbody tr th {\n",
              "        vertical-align: top;\n",
              "    }\n",
              "\n",
              "    .dataframe thead th {\n",
              "        text-align: right;\n",
              "    }\n",
              "</style>\n",
              "<table border=\"1\" class=\"dataframe\">\n",
              "  <thead>\n",
              "    <tr style=\"text-align: right;\">\n",
              "      <th></th>\n",
              "      <th>Date</th>\n",
              "      <th>Index of Industrial Production</th>\n",
              "      <th>Deposits</th>\n",
              "      <th>Credit</th>\n",
              "      <th>Non-food Credit</th>\n",
              "      <th>Investment in Govt. Securities</th>\n",
              "      <th>Reserve Money (M0)</th>\n",
              "      <th>Broad Money (M3)</th>\n",
              "      <th>Cash Reserve Ratio</th>\n",
              "      <th>Statutory Liquidity Ratio</th>\n",
              "      <th>...</th>\n",
              "      <th>3-month (%)</th>\n",
              "      <th>6-month (%)</th>\n",
              "      <th>All India Consumer Price Index</th>\n",
              "      <th>Consumer Price Index for Industrial Workers</th>\n",
              "      <th>Wholesale Price Index</th>\n",
              "      <th>Primary Articles</th>\n",
              "      <th>Fuel and Power</th>\n",
              "      <th>Manufactured Products</th>\n",
              "      <th>Imports</th>\n",
              "      <th>Exports</th>\n",
              "    </tr>\n",
              "  </thead>\n",
              "  <tbody>\n",
              "    <tr>\n",
              "      <th>0</th>\n",
              "      <td>2011-12-01</td>\n",
              "      <td>2.68</td>\n",
              "      <td>16.98</td>\n",
              "      <td>15.97</td>\n",
              "      <td>15.76</td>\n",
              "      <td>17.15</td>\n",
              "      <td>12.21</td>\n",
              "      <td>16.00</td>\n",
              "      <td>6.0</td>\n",
              "      <td>24.0</td>\n",
              "      <td>...</td>\n",
              "      <td>6.76</td>\n",
              "      <td>6.23</td>\n",
              "      <td>NaN</td>\n",
              "      <td>6.49</td>\n",
              "      <td>7.74</td>\n",
              "      <td>3.59</td>\n",
              "      <td>14.98</td>\n",
              "      <td>7.64</td>\n",
              "      <td>27.08</td>\n",
              "      <td>8.64</td>\n",
              "    </tr>\n",
              "    <tr>\n",
              "      <th>1</th>\n",
              "      <td>2011-11-01</td>\n",
              "      <td>6.01</td>\n",
              "      <td>16.45</td>\n",
              "      <td>17.66</td>\n",
              "      <td>17.36</td>\n",
              "      <td>16.09</td>\n",
              "      <td>13.72</td>\n",
              "      <td>15.48</td>\n",
              "      <td>6.0</td>\n",
              "      <td>24.0</td>\n",
              "      <td>...</td>\n",
              "      <td>4.98</td>\n",
              "      <td>4.14</td>\n",
              "      <td>NaN</td>\n",
              "      <td>9.34</td>\n",
              "      <td>9.46</td>\n",
              "      <td>8.90</td>\n",
              "      <td>15.48</td>\n",
              "      <td>8.17</td>\n",
              "      <td>35.57</td>\n",
              "      <td>3.08</td>\n",
              "    </tr>\n",
              "    <tr>\n",
              "      <th>2</th>\n",
              "      <td>2011-10-01</td>\n",
              "      <td>-4.98</td>\n",
              "      <td>15.29</td>\n",
              "      <td>19.31</td>\n",
              "      <td>18.95</td>\n",
              "      <td>13.61</td>\n",
              "      <td>18.39</td>\n",
              "      <td>14.88</td>\n",
              "      <td>6.0</td>\n",
              "      <td>24.0</td>\n",
              "      <td>...</td>\n",
              "      <td>5.73</td>\n",
              "      <td>4.75</td>\n",
              "      <td>NaN</td>\n",
              "      <td>9.39</td>\n",
              "      <td>9.87</td>\n",
              "      <td>10.96</td>\n",
              "      <td>14.79</td>\n",
              "      <td>8.05</td>\n",
              "      <td>26.84</td>\n",
              "      <td>23.85</td>\n",
              "    </tr>\n",
              "    <tr>\n",
              "      <th>3</th>\n",
              "      <td>2011-09-01</td>\n",
              "      <td>2.5</td>\n",
              "      <td>17.48</td>\n",
              "      <td>19.55</td>\n",
              "      <td>19.31</td>\n",
              "      <td>15.63</td>\n",
              "      <td>15.42</td>\n",
              "      <td>16.62</td>\n",
              "      <td>6.0</td>\n",
              "      <td>24.0</td>\n",
              "      <td>...</td>\n",
              "      <td>5.15</td>\n",
              "      <td>3.70</td>\n",
              "      <td>NaN</td>\n",
              "      <td>10.06</td>\n",
              "      <td>10.00</td>\n",
              "      <td>12.22</td>\n",
              "      <td>14.02</td>\n",
              "      <td>8.00</td>\n",
              "      <td>34.71</td>\n",
              "      <td>39.91</td>\n",
              "    </tr>\n",
              "    <tr>\n",
              "      <th>4</th>\n",
              "      <td>2011-08-01</td>\n",
              "      <td>3.4</td>\n",
              "      <td>17.96</td>\n",
              "      <td>20.68</td>\n",
              "      <td>20.18</td>\n",
              "      <td>15.34</td>\n",
              "      <td>16.42</td>\n",
              "      <td>17.06</td>\n",
              "      <td>6.0</td>\n",
              "      <td>24.0</td>\n",
              "      <td>...</td>\n",
              "      <td>2.91</td>\n",
              "      <td>2.89</td>\n",
              "      <td>NaN</td>\n",
              "      <td>8.99</td>\n",
              "      <td>9.78</td>\n",
              "      <td>12.46</td>\n",
              "      <td>12.91</td>\n",
              "      <td>7.87</td>\n",
              "      <td>47.50</td>\n",
              "      <td>39.54</td>\n",
              "    </tr>\n",
              "  </tbody>\n",
              "</table>\n",
              "<p>5 rows × 40 columns</p>\n",
              "</div>\n",
              "      <button class=\"colab-df-convert\" onclick=\"convertToInteractive('df-2d1bb563-74d4-417c-b619-78aaf2e68556')\"\n",
              "              title=\"Convert this dataframe to an interactive table.\"\n",
              "              style=\"display:none;\">\n",
              "        \n",
              "  <svg xmlns=\"http://www.w3.org/2000/svg\" height=\"24px\"viewBox=\"0 0 24 24\"\n",
              "       width=\"24px\">\n",
              "    <path d=\"M0 0h24v24H0V0z\" fill=\"none\"/>\n",
              "    <path d=\"M18.56 5.44l.94 2.06.94-2.06 2.06-.94-2.06-.94-.94-2.06-.94 2.06-2.06.94zm-11 1L8.5 8.5l.94-2.06 2.06-.94-2.06-.94L8.5 2.5l-.94 2.06-2.06.94zm10 10l.94 2.06.94-2.06 2.06-.94-2.06-.94-.94-2.06-.94 2.06-2.06.94z\"/><path d=\"M17.41 7.96l-1.37-1.37c-.4-.4-.92-.59-1.43-.59-.52 0-1.04.2-1.43.59L10.3 9.45l-7.72 7.72c-.78.78-.78 2.05 0 2.83L4 21.41c.39.39.9.59 1.41.59.51 0 1.02-.2 1.41-.59l7.78-7.78 2.81-2.81c.8-.78.8-2.07 0-2.86zM5.41 20L4 18.59l7.72-7.72 1.47 1.35L5.41 20z\"/>\n",
              "  </svg>\n",
              "      </button>\n",
              "      \n",
              "  <style>\n",
              "    .colab-df-container {\n",
              "      display:flex;\n",
              "      flex-wrap:wrap;\n",
              "      gap: 12px;\n",
              "    }\n",
              "\n",
              "    .colab-df-convert {\n",
              "      background-color: #E8F0FE;\n",
              "      border: none;\n",
              "      border-radius: 50%;\n",
              "      cursor: pointer;\n",
              "      display: none;\n",
              "      fill: #1967D2;\n",
              "      height: 32px;\n",
              "      padding: 0 0 0 0;\n",
              "      width: 32px;\n",
              "    }\n",
              "\n",
              "    .colab-df-convert:hover {\n",
              "      background-color: #E2EBFA;\n",
              "      box-shadow: 0px 1px 2px rgba(60, 64, 67, 0.3), 0px 1px 3px 1px rgba(60, 64, 67, 0.15);\n",
              "      fill: #174EA6;\n",
              "    }\n",
              "\n",
              "    [theme=dark] .colab-df-convert {\n",
              "      background-color: #3B4455;\n",
              "      fill: #D2E3FC;\n",
              "    }\n",
              "\n",
              "    [theme=dark] .colab-df-convert:hover {\n",
              "      background-color: #434B5C;\n",
              "      box-shadow: 0px 1px 3px 1px rgba(0, 0, 0, 0.15);\n",
              "      filter: drop-shadow(0px 1px 2px rgba(0, 0, 0, 0.3));\n",
              "      fill: #FFFFFF;\n",
              "    }\n",
              "  </style>\n",
              "\n",
              "      <script>\n",
              "        const buttonEl =\n",
              "          document.querySelector('#df-2d1bb563-74d4-417c-b619-78aaf2e68556 button.colab-df-convert');\n",
              "        buttonEl.style.display =\n",
              "          google.colab.kernel.accessAllowed ? 'block' : 'none';\n",
              "\n",
              "        async function convertToInteractive(key) {\n",
              "          const element = document.querySelector('#df-2d1bb563-74d4-417c-b619-78aaf2e68556');\n",
              "          const dataTable =\n",
              "            await google.colab.kernel.invokeFunction('convertToInteractive',\n",
              "                                                     [key], {});\n",
              "          if (!dataTable) return;\n",
              "\n",
              "          const docLinkHtml = 'Like what you see? Visit the ' +\n",
              "            '<a target=\"_blank\" href=https://colab.research.google.com/notebooks/data_table.ipynb>data table notebook</a>'\n",
              "            + ' to learn more about interactive tables.';\n",
              "          element.innerHTML = '';\n",
              "          dataTable['output_type'] = 'display_data';\n",
              "          await google.colab.output.renderOutput(dataTable, element);\n",
              "          const docLink = document.createElement('div');\n",
              "          docLink.innerHTML = docLinkHtml;\n",
              "          element.appendChild(docLink);\n",
              "        }\n",
              "      </script>\n",
              "    </div>\n",
              "  </div>\n",
              "  "
            ]
          },
          "metadata": {},
          "execution_count": 52
        }
      ],
      "source": [
        "df.head()"
      ]
    },
    {
      "cell_type": "code",
      "source": [
        "df.isnull().sum().sum()"
      ],
      "metadata": {
        "colab": {
          "base_uri": "https://localhost:8080/"
        },
        "id": "e6pQfgWgNE_z",
        "outputId": "ca665d43-842f-4bd4-afa5-de2548626402"
      },
      "execution_count": null,
      "outputs": [
        {
          "output_type": "execute_result",
          "data": {
            "text/plain": [
              "38"
            ]
          },
          "metadata": {},
          "execution_count": 53
        }
      ]
    },
    {
      "cell_type": "code",
      "source": [
        "print(df.isnull().sum())"
      ],
      "metadata": {
        "colab": {
          "base_uri": "https://localhost:8080/"
        },
        "id": "zvgFwkAbLK9V",
        "outputId": "472f913e-ffbf-43f4-d320-e73f6b5e8826"
      },
      "execution_count": null,
      "outputs": [
        {
          "output_type": "stream",
          "name": "stdout",
          "text": [
            "Date                                              0\n",
            "   Index of Industrial Production                 0\n",
            "Deposits                                          0\n",
            "Credit                                            0\n",
            "Non-food Credit                                   0\n",
            "Investment in Govt. Securities                    0\n",
            "Reserve Money (M0)                                0\n",
            "Broad Money (M3)                                  0\n",
            "Cash Reserve Ratio                                0\n",
            "Statutory Liquidity Ratio                         0\n",
            "Cash-Deposit Ratio                                0\n",
            "Credit-Deposit Ratio                              0\n",
            "Incremental Credit-Deposit Ratio                  0\n",
            "Investment-Deposit Ratio                          0\n",
            "Incremental Investment-Deposit Ratio              0\n",
            "Policy Repo Rate                                  0\n",
            "Reverse Repo Rate                                 0\n",
            "Marginal Standing Facility (MSF) Rate             0\n",
            "Bank Rate                                         0\n",
            "Base Rate                                         2\n",
            "Term Deposit Rate >1 Year                         3\n",
            "Savings Deposit Rate                              3\n",
            "Call Money Rate (Weighted Average)                0\n",
            "91-Day Treasury Bill (Primary) Yield              1\n",
            "182-Day Treasury Bill (Primary) Yield             1\n",
            "364-Day Treasury Bill (Primary) Yield             0\n",
            "10-Year G-Sec Par Yield (FBIL)                   10\n",
            "INR-US$ Spot Rate (Rs. Per Foreign Currency)      0\n",
            "INR-Euro Spot Rate (Rs. Per Foreign Currency)     0\n",
            "Forward Premia of US$ 1-month (%)                 0\n",
            "3-month (%)                                       0\n",
            "6-month (%)                                       0\n",
            "All India Consumer Price Index                   12\n",
            "Consumer Price Index for Industrial Workers       0\n",
            "Wholesale Price Index                             0\n",
            "Primary Articles                                  0\n",
            "Fuel and Power                                    0\n",
            "Manufactured Products                             0\n",
            "Imports                                           3\n",
            "Exports                                           3\n",
            "dtype: int64\n"
          ]
        }
      ]
    },
    {
      "cell_type": "code",
      "source": [
        "df['10-Year G-Sec Par Yield (FBIL)'] = df['10-Year G-Sec Par Yield (FBIL)'].fillna(df['10-Year G-Sec Par Yield (FBIL)'].mean())\n",
        "df['All India Consumer Price Index'] = df['All India Consumer Price Index'].fillna(df['All India Consumer Price Index'].mean())"
      ],
      "metadata": {
        "id": "Yz6i77F3M3tt"
      },
      "execution_count": null,
      "outputs": []
    },
    {
      "cell_type": "code",
      "source": [
        "df.isnull().sum().sum()"
      ],
      "metadata": {
        "colab": {
          "base_uri": "https://localhost:8080/"
        },
        "id": "6WqW6VVzNu9i",
        "outputId": "25d0d371-6c90-4934-bb7c-3ac12fd0a915"
      },
      "execution_count": null,
      "outputs": [
        {
          "output_type": "execute_result",
          "data": {
            "text/plain": [
              "16"
            ]
          },
          "metadata": {},
          "execution_count": 56
        }
      ]
    },
    {
      "cell_type": "code",
      "source": [
        "print(df.isnull().sum())"
      ],
      "metadata": {
        "colab": {
          "base_uri": "https://localhost:8080/"
        },
        "id": "Uei0wLUZOZKp",
        "outputId": "c091df8e-6fca-42b2-f36a-43da76e3165c"
      },
      "execution_count": null,
      "outputs": [
        {
          "output_type": "stream",
          "name": "stdout",
          "text": [
            "Date                                             0\n",
            "   Index of Industrial Production                0\n",
            "Deposits                                         0\n",
            "Credit                                           0\n",
            "Non-food Credit                                  0\n",
            "Investment in Govt. Securities                   0\n",
            "Reserve Money (M0)                               0\n",
            "Broad Money (M3)                                 0\n",
            "Cash Reserve Ratio                               0\n",
            "Statutory Liquidity Ratio                        0\n",
            "Cash-Deposit Ratio                               0\n",
            "Credit-Deposit Ratio                             0\n",
            "Incremental Credit-Deposit Ratio                 0\n",
            "Investment-Deposit Ratio                         0\n",
            "Incremental Investment-Deposit Ratio             0\n",
            "Policy Repo Rate                                 0\n",
            "Reverse Repo Rate                                0\n",
            "Marginal Standing Facility (MSF) Rate            0\n",
            "Bank Rate                                        0\n",
            "Base Rate                                        2\n",
            "Term Deposit Rate >1 Year                        3\n",
            "Savings Deposit Rate                             3\n",
            "Call Money Rate (Weighted Average)               0\n",
            "91-Day Treasury Bill (Primary) Yield             1\n",
            "182-Day Treasury Bill (Primary) Yield            1\n",
            "364-Day Treasury Bill (Primary) Yield            0\n",
            "10-Year G-Sec Par Yield (FBIL)                   0\n",
            "INR-US$ Spot Rate (Rs. Per Foreign Currency)     0\n",
            "INR-Euro Spot Rate (Rs. Per Foreign Currency)    0\n",
            "Forward Premia of US$ 1-month (%)                0\n",
            "3-month (%)                                      0\n",
            "6-month (%)                                      0\n",
            "All India Consumer Price Index                   0\n",
            "Consumer Price Index for Industrial Workers      0\n",
            "Wholesale Price Index                            0\n",
            "Primary Articles                                 0\n",
            "Fuel and Power                                   0\n",
            "Manufactured Products                            0\n",
            "Imports                                          3\n",
            "Exports                                          3\n",
            "dtype: int64\n"
          ]
        }
      ]
    },
    {
      "cell_type": "code",
      "source": [
        "df['Savings Deposit Rate'].fillna(method = 'ffill', inplace = True)"
      ],
      "metadata": {
        "id": "kKarYLlSQdNE"
      },
      "execution_count": null,
      "outputs": []
    },
    {
      "cell_type": "code",
      "source": [
        "df['182-Day Treasury Bill (Primary) Yield'] = df['182-Day Treasury Bill (Primary) Yield'].fillna(df['182-Day Treasury Bill (Primary) Yield'].mean())\n",
        "df['91-Day Treasury Bill (Primary) Yield'] = df['91-Day Treasury Bill (Primary) Yield'].fillna(df['91-Day Treasury Bill (Primary) Yield'].mean())"
      ],
      "metadata": {
        "id": "AdxqxKUAn6K0"
      },
      "execution_count": null,
      "outputs": []
    },
    {
      "cell_type": "code",
      "source": [
        "del df['Base Rate']\n",
        "del df['Term Deposit Rate >1 Year']"
      ],
      "metadata": {
        "id": "RpZP7j58omhs"
      },
      "execution_count": null,
      "outputs": []
    },
    {
      "cell_type": "code",
      "source": [
        "df['Imports'] = df['Imports'].fillna(df['Imports'].mean())\n",
        "df['Exports'] = df['Exports'].fillna(df['Exports'].mean())"
      ],
      "metadata": {
        "id": "QU_o5zcppYPo"
      },
      "execution_count": null,
      "outputs": []
    },
    {
      "cell_type": "code",
      "source": [
        "print(df.isnull().sum())"
      ],
      "metadata": {
        "colab": {
          "base_uri": "https://localhost:8080/"
        },
        "id": "gKBQIgo1pxXl",
        "outputId": "5c2413ec-aea7-495c-9312-4277fcb190ac"
      },
      "execution_count": null,
      "outputs": [
        {
          "output_type": "stream",
          "name": "stdout",
          "text": [
            "Date                                             0\n",
            "   Index of Industrial Production                0\n",
            "Deposits                                         0\n",
            "Credit                                           0\n",
            "Non-food Credit                                  0\n",
            "Investment in Govt. Securities                   0\n",
            "Reserve Money (M0)                               0\n",
            "Broad Money (M3)                                 0\n",
            "Cash Reserve Ratio                               0\n",
            "Statutory Liquidity Ratio                        0\n",
            "Cash-Deposit Ratio                               0\n",
            "Credit-Deposit Ratio                             0\n",
            "Incremental Credit-Deposit Ratio                 0\n",
            "Investment-Deposit Ratio                         0\n",
            "Incremental Investment-Deposit Ratio             0\n",
            "Policy Repo Rate                                 0\n",
            "Reverse Repo Rate                                0\n",
            "Marginal Standing Facility (MSF) Rate            0\n",
            "Bank Rate                                        0\n",
            "Savings Deposit Rate                             0\n",
            "Call Money Rate (Weighted Average)               0\n",
            "91-Day Treasury Bill (Primary) Yield             0\n",
            "182-Day Treasury Bill (Primary) Yield            0\n",
            "364-Day Treasury Bill (Primary) Yield            0\n",
            "10-Year G-Sec Par Yield (FBIL)                   0\n",
            "INR-US$ Spot Rate (Rs. Per Foreign Currency)     0\n",
            "INR-Euro Spot Rate (Rs. Per Foreign Currency)    0\n",
            "Forward Premia of US$ 1-month (%)                0\n",
            "3-month (%)                                      0\n",
            "6-month (%)                                      0\n",
            "All India Consumer Price Index                   0\n",
            "Consumer Price Index for Industrial Workers      0\n",
            "Wholesale Price Index                            0\n",
            "Primary Articles                                 0\n",
            "Fuel and Power                                   0\n",
            "Manufactured Products                            0\n",
            "Imports                                          0\n",
            "Exports                                          0\n",
            "dtype: int64\n"
          ]
        }
      ]
    },
    {
      "cell_type": "code",
      "source": [
        "train_date = pd.to_datetime(df['Date'])\n",
        "train_date.head()"
      ],
      "metadata": {
        "colab": {
          "base_uri": "https://localhost:8080/"
        },
        "id": "lDD5azePnet8",
        "outputId": "637854c1-3fb9-474a-fdd2-293111ba8b38"
      },
      "execution_count": null,
      "outputs": [
        {
          "output_type": "execute_result",
          "data": {
            "text/plain": [
              "0   2011-12-01\n",
              "1   2011-11-01\n",
              "2   2011-10-01\n",
              "3   2011-09-01\n",
              "4   2011-08-01\n",
              "Name: Date, dtype: datetime64[ns]"
            ]
          },
          "metadata": {},
          "execution_count": 63
        }
      ]
    },
    {
      "cell_type": "code",
      "source": [
        "dataplot=sb.heatmap(df.corr())"
      ],
      "metadata": {
        "colab": {
          "base_uri": "https://localhost:8080/",
          "height": 485
        },
        "id": "8q4mWumDp0Pm",
        "outputId": "215d4fa2-17af-4be8-f05e-938dee88e94d"
      },
      "execution_count": null,
      "outputs": [
        {
          "output_type": "display_data",
          "data": {
            "text/plain": [
              "<Figure size 432x288 with 2 Axes>"
            ],
            "image/png": "[encoded data removed]"
          },
          "metadata": {
            "needs_background": "light"
          }
        }
      ]
    },
    {
      "cell_type": "code",
      "source": [
        "df = df[['Date', 'Imports', 'Exports', 'Bank Rate', 'Reverse Repo Rate', '364-Day Treasury Bill (Primary) Yield', 'Consumer Price Index for Industrial Workers', 'Policy Repo Rate', 'Cash Reserve Ratio', 'Deposits']]"
      ],
      "metadata": {
        "id": "xIpe0bbIqUFz"
      },
      "execution_count": null,
      "outputs": []
    },
    {
      "cell_type": "code",
      "source": [
        "df.head()"
      ],
      "metadata": {
        "colab": {
          "base_uri": "https://localhost:8080/",
          "height": 350
        },
        "id": "1Ptfd_xbrMiw",
        "outputId": "1479fa93-e4d1-41e0-d632-c035405b7808"
      },
      "execution_count": null,
      "outputs": [
        {
          "output_type": "execute_result",
          "data": {
            "text/plain": [
              "         Date  Imports  Exports  Bank Rate  Reverse Repo Rate  \\\n",
              "0  2011-12-01    27.08     8.64        6.0               7.50   \n",
              "1  2011-11-01    35.57     3.08        6.0               7.50   \n",
              "2  2011-10-01    26.84    23.85        6.0               7.50   \n",
              "3  2011-09-01    34.71    39.91        6.0               7.25   \n",
              "4  2011-08-01    47.50    39.54        6.0               7.00   \n",
              "\n",
              "   364-Day Treasury Bill (Primary) Yield  \\\n",
              "0                                   8.35   \n",
              "1                                   8.45   \n",
              "2                                   8.68   \n",
              "3                                   8.46   \n",
              "4                                   8.31   \n",
              "\n",
              "   Consumer Price Index for Industrial Workers  Policy Repo Rate  \\\n",
              "0                                         6.49              8.50   \n",
              "1                                         9.34              8.50   \n",
              "2                                         9.39              8.50   \n",
              "3                                        10.06              8.25   \n",
              "4                                         8.99              8.00   \n",
              "\n",
              "   Cash Reserve Ratio  Deposits  \n",
              "0                 6.0     16.98  \n",
              "1                 6.0     16.45  \n",
              "2                 6.0     15.29  \n",
              "3                 6.0     17.48  \n",
              "4                 6.0     17.96  "
            ],
            "text/html": [
              "\n",
              "  <div id=\"df-94d6e3a7-b2df-4d24-a89c-8d8319afccfd\">\n",
              "    <div class=\"colab-df-container\">\n",
              "      <div>\n",
              "<style scoped>\n",
              "    .dataframe tbody tr th:only-of-type {\n",
              "        vertical-align: middle;\n",
              "    }\n",
              "\n",
              "    .dataframe tbody tr th {\n",
              "        vertical-align: top;\n",
              "    }\n",
              "\n",
              "    .dataframe thead th {\n",
              "        text-align: right;\n",
              "    }\n",
              "</style>\n",
              "<table border=\"1\" class=\"dataframe\">\n",
              "  <thead>\n",
              "    <tr style=\"text-align: right;\">\n",
              "      <th></th>\n",
              "      <th>Date</th>\n",
              "      <th>Imports</th>\n",
              "      <th>Exports</th>\n",
              "      <th>Bank Rate</th>\n",
              "      <th>Reverse Repo Rate</th>\n",
              "      <th>364-Day Treasury Bill (Primary) Yield</th>\n",
              "      <th>Consumer Price Index for Industrial Workers</th>\n",
              "      <th>Policy Repo Rate</th>\n",
              "      <th>Cash Reserve Ratio</th>\n",
              "      <th>Deposits</th>\n",
              "    </tr>\n",
              "  </thead>\n",
              "  <tbody>\n",
              "    <tr>\n",
              "      <th>0</th>\n",
              "      <td>2011-12-01</td>\n",
              "      <td>27.08</td>\n",
              "      <td>8.64</td>\n",
              "      <td>6.0</td>\n",
              "      <td>7.50</td>\n",
              "      <td>8.35</td>\n",
              "      <td>6.49</td>\n",
              "      <td>8.50</td>\n",
              "      <td>6.0</td>\n",
              "      <td>16.98</td>\n",
              "    </tr>\n",
              "    <tr>\n",
              "      <th>1</th>\n",
              "      <td>2011-11-01</td>\n",
              "      <td>35.57</td>\n",
              "      <td>3.08</td>\n",
              "      <td>6.0</td>\n",
              "      <td>7.50</td>\n",
              "      <td>8.45</td>\n",
              "      <td>9.34</td>\n",
              "      <td>8.50</td>\n",
              "      <td>6.0</td>\n",
              "      <td>16.45</td>\n",
              "    </tr>\n",
              "    <tr>\n",
              "      <th>2</th>\n",
              "      <td>2011-10-01</td>\n",
              "      <td>26.84</td>\n",
              "      <td>23.85</td>\n",
              "      <td>6.0</td>\n",
              "      <td>7.50</td>\n",
              "      <td>8.68</td>\n",
              "      <td>9.39</td>\n",
              "      <td>8.50</td>\n",
              "      <td>6.0</td>\n",
              "      <td>15.29</td>\n",
              "    </tr>\n",
              "    <tr>\n",
              "      <th>3</th>\n",
              "      <td>2011-09-01</td>\n",
              "      <td>34.71</td>\n",
              "      <td>39.91</td>\n",
              "      <td>6.0</td>\n",
              "      <td>7.25</td>\n",
              "      <td>8.46</td>\n",
              "      <td>10.06</td>\n",
              "      <td>8.25</td>\n",
              "      <td>6.0</td>\n",
              "      <td>17.48</td>\n",
              "    </tr>\n",
              "    <tr>\n",
              "      <th>4</th>\n",
              "      <td>2011-08-01</td>\n",
              "      <td>47.50</td>\n",
              "      <td>39.54</td>\n",
              "      <td>6.0</td>\n",
              "      <td>7.00</td>\n",
              "      <td>8.31</td>\n",
              "      <td>8.99</td>\n",
              "      <td>8.00</td>\n",
              "      <td>6.0</td>\n",
              "      <td>17.96</td>\n",
              "    </tr>\n",
              "  </tbody>\n",
              "</table>\n",
              "</div>\n",
              "      <button class=\"colab-df-convert\" onclick=\"convertToInteractive('df-94d6e3a7-b2df-4d24-a89c-8d8319afccfd')\"\n",
              "              title=\"Convert this dataframe to an interactive table.\"\n",
              "              style=\"display:none;\">\n",
              "        \n",
              "  <svg xmlns=\"http://www.w3.org/2000/svg\" height=\"24px\"viewBox=\"0 0 24 24\"\n",
              "       width=\"24px\">\n",
              "    <path d=\"M0 0h24v24H0V0z\" fill=\"none\"/>\n",
              "    <path d=\"M18.56 5.44l.94 2.06.94-2.06 2.06-.94-2.06-.94-.94-2.06-.94 2.06-2.06.94zm-11 1L8.5 8.5l.94-2.06 2.06-.94-2.06-.94L8.5 2.5l-.94 2.06-2.06.94zm10 10l.94 2.06.94-2.06 2.06-.94-2.06-.94-.94-2.06-.94 2.06-2.06.94z\"/><path d=\"M17.41 7.96l-1.37-1.37c-.4-.4-.92-.59-1.43-.59-.52 0-1.04.2-1.43.59L10.3 9.45l-7.72 7.72c-.78.78-.78 2.05 0 2.83L4 21.41c.39.39.9.59 1.41.59.51 0 1.02-.2 1.41-.59l7.78-7.78 2.81-2.81c.8-.78.8-2.07 0-2.86zM5.41 20L4 18.59l7.72-7.72 1.47 1.35L5.41 20z\"/>\n",
              "  </svg>\n",
              "      </button>\n",
              "      \n",
              "  <style>\n",
              "    .colab-df-container {\n",
              "      display:flex;\n",
              "      flex-wrap:wrap;\n",
              "      gap: 12px;\n",
              "    }\n",
              "\n",
              "    .colab-df-convert {\n",
              "      background-color: #E8F0FE;\n",
              "      border: none;\n",
              "      border-radius: 50%;\n",
              "      cursor: pointer;\n",
              "      display: none;\n",
              "      fill: #1967D2;\n",
              "      height: 32px;\n",
              "      padding: 0 0 0 0;\n",
              "      width: 32px;\n",
              "    }\n",
              "\n",
              "    .colab-df-convert:hover {\n",
              "      background-color: #E2EBFA;\n",
              "      box-shadow: 0px 1px 2px rgba(60, 64, 67, 0.3), 0px 1px 3px 1px rgba(60, 64, 67, 0.15);\n",
              "      fill: #174EA6;\n",
              "    }\n",
              "\n",
              "    [theme=dark] .colab-df-convert {\n",
              "      background-color: #3B4455;\n",
              "      fill: #D2E3FC;\n",
              "    }\n",
              "\n",
              "    [theme=dark] .colab-df-convert:hover {\n",
              "      background-color: #434B5C;\n",
              "      box-shadow: 0px 1px 3px 1px rgba(0, 0, 0, 0.15);\n",
              "      filter: drop-shadow(0px 1px 2px rgba(0, 0, 0, 0.3));\n",
              "      fill: #FFFFFF;\n",
              "    }\n",
              "  </style>\n",
              "\n",
              "      <script>\n",
              "        const buttonEl =\n",
              "          document.querySelector('#df-94d6e3a7-b2df-4d24-a89c-8d8319afccfd button.colab-df-convert');\n",
              "        buttonEl.style.display =\n",
              "          google.colab.kernel.accessAllowed ? 'block' : 'none';\n",
              "\n",
              "        async function convertToInteractive(key) {\n",
              "          const element = document.querySelector('#df-94d6e3a7-b2df-4d24-a89c-8d8319afccfd');\n",
              "          const dataTable =\n",
              "            await google.colab.kernel.invokeFunction('convertToInteractive',\n",
              "                                                     [key], {});\n",
              "          if (!dataTable) return;\n",
              "\n",
              "          const docLinkHtml = 'Like what you see? Visit the ' +\n",
              "            '<a target=\"_blank\" href=https://colab.research.google.com/notebooks/data_table.ipynb>data table notebook</a>'\n",
              "            + ' to learn more about interactive tables.';\n",
              "          element.innerHTML = '';\n",
              "          dataTable['output_type'] = 'display_data';\n",
              "          await google.colab.output.renderOutput(dataTable, element);\n",
              "          const docLink = document.createElement('div');\n",
              "          docLink.innerHTML = docLinkHtml;\n",
              "          element.appendChild(docLink);\n",
              "        }\n",
              "      </script>\n",
              "    </div>\n",
              "  </div>\n",
              "  "
            ]
          },
          "metadata": {},
          "execution_count": 66
        }
      ]
    },
    {
      "cell_type": "code",
      "source": [
        "import seaborn as sns\n",
        "corr = df.corr()\n",
        "sns.heatmap(corr, cmap='RdBu', vmin=-1, vmax=1, annot=True)"
      ],
      "metadata": {
        "colab": {
          "base_uri": "https://localhost:8080/",
          "height": 496
        },
        "id": "tQ_6VKz-rTom",
        "outputId": "1829b978-b1a5-4a85-d388-2766d192dd1b"
      },
      "execution_count": null,
      "outputs": [
        {
          "output_type": "execute_result",
          "data": {
            "text/plain": [
              "<AxesSubplot:>"
            ]
          },
          "metadata": {},
          "execution_count": 67
        },
        {
          "output_type": "display_data",
          "data": {
            "text/plain": [
              "<Figure size 432x288 with 2 Axes>"
            ],
            "image/png": "[encoded data removed]"
          },
          "metadata": {
            "needs_background": "light"
          }
        }
      ]
    },
    {
      "cell_type": "code",
      "source": [
        "df.head()"
      ],
      "metadata": {
        "colab": {
          "base_uri": "https://localhost:8080/",
          "height": 350
        },
        "id": "fLMTDbWKbqOP",
        "outputId": "54b26b11-ecbb-4d8d-d818-66fecda89a4e"
      },
      "execution_count": null,
      "outputs": [
        {
          "output_type": "execute_result",
          "data": {
            "text/plain": [
              "         Date  Imports  Exports  Bank Rate  Reverse Repo Rate  \\\n",
              "0  2011-12-01    27.08     8.64        6.0               7.50   \n",
              "1  2011-11-01    35.57     3.08        6.0               7.50   \n",
              "2  2011-10-01    26.84    23.85        6.0               7.50   \n",
              "3  2011-09-01    34.71    39.91        6.0               7.25   \n",
              "4  2011-08-01    47.50    39.54        6.0               7.00   \n",
              "\n",
              "   364-Day Treasury Bill (Primary) Yield  \\\n",
              "0                                   8.35   \n",
              "1                                   8.45   \n",
              "2                                   8.68   \n",
              "3                                   8.46   \n",
              "4                                   8.31   \n",
              "\n",
              "   Consumer Price Index for Industrial Workers  Policy Repo Rate  \\\n",
              "0                                         6.49              8.50   \n",
              "1                                         9.34              8.50   \n",
              "2                                         9.39              8.50   \n",
              "3                                        10.06              8.25   \n",
              "4                                         8.99              8.00   \n",
              "\n",
              "   Cash Reserve Ratio  Deposits  \n",
              "0                 6.0     16.98  \n",
              "1                 6.0     16.45  \n",
              "2                 6.0     15.29  \n",
              "3                 6.0     17.48  \n",
              "4                 6.0     17.96  "
            ],
            "text/html": [
              "\n",
              "  <div id=\"df-f2527605-b306-4789-a110-2a4d5a8e44fb\">\n",
              "    <div class=\"colab-df-container\">\n",
              "      <div>\n",
              "<style scoped>\n",
              "    .dataframe tbody tr th:only-of-type {\n",
              "        vertical-align: middle;\n",
              "    }\n",
              "\n",
              "    .dataframe tbody tr th {\n",
              "        vertical-align: top;\n",
              "    }\n",
              "\n",
              "    .dataframe thead th {\n",
              "        text-align: right;\n",
              "    }\n",
              "</style>\n",
              "<table border=\"1\" class=\"dataframe\">\n",
              "  <thead>\n",
              "    <tr style=\"text-align: right;\">\n",
              "      <th></th>\n",
              "      <th>Date</th>\n",
              "      <th>Imports</th>\n",
              "      <th>Exports</th>\n",
              "      <th>Bank Rate</th>\n",
              "      <th>Reverse Repo Rate</th>\n",
              "      <th>364-Day Treasury Bill (Primary) Yield</th>\n",
              "      <th>Consumer Price Index for Industrial Workers</th>\n",
              "      <th>Policy Repo Rate</th>\n",
              "      <th>Cash Reserve Ratio</th>\n",
              "      <th>Deposits</th>\n",
              "    </tr>\n",
              "  </thead>\n",
              "  <tbody>\n",
              "    <tr>\n",
              "      <th>0</th>\n",
              "      <td>2011-12-01</td>\n",
              "      <td>27.08</td>\n",
              "      <td>8.64</td>\n",
              "      <td>6.0</td>\n",
              "      <td>7.50</td>\n",
              "      <td>8.35</td>\n",
              "      <td>6.49</td>\n",
              "      <td>8.50</td>\n",
              "      <td>6.0</td>\n",
              "      <td>16.98</td>\n",
              "    </tr>\n",
              "    <tr>\n",
              "      <th>1</th>\n",
              "      <td>2011-11-01</td>\n",
              "      <td>35.57</td>\n",
              "      <td>3.08</td>\n",
              "      <td>6.0</td>\n",
              "      <td>7.50</td>\n",
              "      <td>8.45</td>\n",
              "      <td>9.34</td>\n",
              "      <td>8.50</td>\n",
              "      <td>6.0</td>\n",
              "      <td>16.45</td>\n",
              "    </tr>\n",
              "    <tr>\n",
              "      <th>2</th>\n",
              "      <td>2011-10-01</td>\n",
              "      <td>26.84</td>\n",
              "      <td>23.85</td>\n",
              "      <td>6.0</td>\n",
              "      <td>7.50</td>\n",
              "      <td>8.68</td>\n",
              "      <td>9.39</td>\n",
              "      <td>8.50</td>\n",
              "      <td>6.0</td>\n",
              "      <td>15.29</td>\n",
              "    </tr>\n",
              "    <tr>\n",
              "      <th>3</th>\n",
              "      <td>2011-09-01</td>\n",
              "      <td>34.71</td>\n",
              "      <td>39.91</td>\n",
              "      <td>6.0</td>\n",
              "      <td>7.25</td>\n",
              "      <td>8.46</td>\n",
              "      <td>10.06</td>\n",
              "      <td>8.25</td>\n",
              "      <td>6.0</td>\n",
              "      <td>17.48</td>\n",
              "    </tr>\n",
              "    <tr>\n",
              "      <th>4</th>\n",
              "      <td>2011-08-01</td>\n",
              "      <td>47.50</td>\n",
              "      <td>39.54</td>\n",
              "      <td>6.0</td>\n",
              "      <td>7.00</td>\n",
              "      <td>8.31</td>\n",
              "      <td>8.99</td>\n",
              "      <td>8.00</td>\n",
              "      <td>6.0</td>\n",
              "      <td>17.96</td>\n",
              "    </tr>\n",
              "  </tbody>\n",
              "</table>\n",
              "</div>\n",
              "      <button class=\"colab-df-convert\" onclick=\"convertToInteractive('df-f2527605-b306-4789-a110-2a4d5a8e44fb')\"\n",
              "              title=\"Convert this dataframe to an interactive table.\"\n",
              "              style=\"display:none;\">\n",
              "        \n",
              "  <svg xmlns=\"http://www.w3.org/2000/svg\" height=\"24px\"viewBox=\"0 0 24 24\"\n",
              "       width=\"24px\">\n",
              "    <path d=\"M0 0h24v24H0V0z\" fill=\"none\"/>\n",
              "    <path d=\"M18.56 5.44l.94 2.06.94-2.06 2.06-.94-2.06-.94-.94-2.06-.94 2.06-2.06.94zm-11 1L8.5 8.5l.94-2.06 2.06-.94-2.06-.94L8.5 2.5l-.94 2.06-2.06.94zm10 10l.94 2.06.94-2.06 2.06-.94-2.06-.94-.94-2.06-.94 2.06-2.06.94z\"/><path d=\"M17.41 7.96l-1.37-1.37c-.4-.4-.92-.59-1.43-.59-.52 0-1.04.2-1.43.59L10.3 9.45l-7.72 7.72c-.78.78-.78 2.05 0 2.83L4 21.41c.39.39.9.59 1.41.59.51 0 1.02-.2 1.41-.59l7.78-7.78 2.81-2.81c.8-.78.8-2.07 0-2.86zM5.41 20L4 18.59l7.72-7.72 1.47 1.35L5.41 20z\"/>\n",
              "  </svg>\n",
              "      </button>\n",
              "      \n",
              "  <style>\n",
              "    .colab-df-container {\n",
              "      display:flex;\n",
              "      flex-wrap:wrap;\n",
              "      gap: 12px;\n",
              "    }\n",
              "\n",
              "    .colab-df-convert {\n",
              "      background-color: #E8F0FE;\n",
              "      border: none;\n",
              "      border-radius: 50%;\n",
              "      cursor: pointer;\n",
              "      display: none;\n",
              "      fill: #1967D2;\n",
              "      height: 32px;\n",
              "      padding: 0 0 0 0;\n",
              "      width: 32px;\n",
              "    }\n",
              "\n",
              "    .colab-df-convert:hover {\n",
              "      background-color: #E2EBFA;\n",
              "      box-shadow: 0px 1px 2px rgba(60, 64, 67, 0.3), 0px 1px 3px 1px rgba(60, 64, 67, 0.15);\n",
              "      fill: #174EA6;\n",
              "    }\n",
              "\n",
              "    [theme=dark] .colab-df-convert {\n",
              "      background-color: #3B4455;\n",
              "      fill: #D2E3FC;\n",
              "    }\n",
              "\n",
              "    [theme=dark] .colab-df-convert:hover {\n",
              "      background-color: #434B5C;\n",
              "      box-shadow: 0px 1px 3px 1px rgba(0, 0, 0, 0.15);\n",
              "      filter: drop-shadow(0px 1px 2px rgba(0, 0, 0, 0.3));\n",
              "      fill: #FFFFFF;\n",
              "    }\n",
              "  </style>\n",
              "\n",
              "      <script>\n",
              "        const buttonEl =\n",
              "          document.querySelector('#df-f2527605-b306-4789-a110-2a4d5a8e44fb button.colab-df-convert');\n",
              "        buttonEl.style.display =\n",
              "          google.colab.kernel.accessAllowed ? 'block' : 'none';\n",
              "\n",
              "        async function convertToInteractive(key) {\n",
              "          const element = document.querySelector('#df-f2527605-b306-4789-a110-2a4d5a8e44fb');\n",
              "          const dataTable =\n",
              "            await google.colab.kernel.invokeFunction('convertToInteractive',\n",
              "                                                     [key], {});\n",
              "          if (!dataTable) return;\n",
              "\n",
              "          const docLinkHtml = 'Like what you see? Visit the ' +\n",
              "            '<a target=\"_blank\" href=https://colab.research.google.com/notebooks/data_table.ipynb>data table notebook</a>'\n",
              "            + ' to learn more about interactive tables.';\n",
              "          element.innerHTML = '';\n",
              "          dataTable['output_type'] = 'display_data';\n",
              "          await google.colab.output.renderOutput(dataTable, element);\n",
              "          const docLink = document.createElement('div');\n",
              "          docLink.innerHTML = docLinkHtml;\n",
              "          element.appendChild(docLink);\n",
              "        }\n",
              "      </script>\n",
              "    </div>\n",
              "  </div>\n",
              "  "
            ]
          },
          "metadata": {},
          "execution_count": 68
        }
      ]
    },
    {
      "cell_type": "code",
      "source": [],
      "metadata": {
        "id": "TXf-4lwCmhZ9"
      },
      "execution_count": null,
      "outputs": []
    },
    {
      "cell_type": "markdown",
      "source": [
        "Importing libraries for LSTM"
      ],
      "metadata": {
        "id": "6vBdYxE72Ki8"
      }
    },
    {
      "cell_type": "code",
      "source": [
        "from keras.layers import Dense, Dropout\n",
        "from keras.layers import LSTM\n",
        "from sklearn.preprocessing import StandardScaler\n",
        "from keras.models import Sequential"
      ],
      "metadata": {
        "id": "UiLBUSX5dxOw"
      },
      "execution_count": null,
      "outputs": []
    },
    {
      "cell_type": "code",
      "source": [
        "##Excluding Time as Variable in our dataframe."
      ],
      "metadata": {
        "id": "TCCSeW4-38_w"
      },
      "execution_count": null,
      "outputs": []
    },
    {
      "cell_type": "code",
      "source": [
        "cols = list(df)[1:10]"
      ],
      "metadata": {
        "id": "XKgGIM9_BSXk"
      },
      "execution_count": null,
      "outputs": []
    },
    {
      "cell_type": "code",
      "source": [
        "##Creating new dataframe without date."
      ],
      "metadata": {
        "id": "SVgG2AP72U0a"
      },
      "execution_count": null,
      "outputs": []
    },
    {
      "cell_type": "code",
      "source": [
        "df_training = df[cols].astype(float)"
      ],
      "metadata": {
        "id": "RdCphbXSB3B0"
      },
      "execution_count": null,
      "outputs": []
    },
    {
      "cell_type": "code",
      "source": [
        "df_training.head()"
      ],
      "metadata": {
        "colab": {
          "base_uri": "https://localhost:8080/",
          "height": 265
        },
        "id": "VBLXTc3u17zt",
        "outputId": "f31397ed-4713-4103-87b2-3292f1636a86"
      },
      "execution_count": null,
      "outputs": [
        {
          "output_type": "execute_result",
          "data": {
            "text/plain": [
              "   Imports  Exports  Bank Rate  Reverse Repo Rate  \\\n",
              "0    27.08     8.64        6.0               7.50   \n",
              "1    35.57     3.08        6.0               7.50   \n",
              "2    26.84    23.85        6.0               7.50   \n",
              "3    34.71    39.91        6.0               7.25   \n",
              "4    47.50    39.54        6.0               7.00   \n",
              "\n",
              "   364-Day Treasury Bill (Primary) Yield  \\\n",
              "0                                   8.35   \n",
              "1                                   8.45   \n",
              "2                                   8.68   \n",
              "3                                   8.46   \n",
              "4                                   8.31   \n",
              "\n",
              "   Consumer Price Index for Industrial Workers  Policy Repo Rate  \\\n",
              "0                                         6.49              8.50   \n",
              "1                                         9.34              8.50   \n",
              "2                                         9.39              8.50   \n",
              "3                                        10.06              8.25   \n",
              "4                                         8.99              8.00   \n",
              "\n",
              "   Cash Reserve Ratio  Deposits  \n",
              "0                 6.0     16.98  \n",
              "1                 6.0     16.45  \n",
              "2                 6.0     15.29  \n",
              "3                 6.0     17.48  \n",
              "4                 6.0     17.96  "
            ],
            "text/html": [
              "\n",
              "  <div id=\"df-0579033a-aa4c-49a2-8556-ef245efb0d3a\">\n",
              "    <div class=\"colab-df-container\">\n",
              "      <div>\n",
              "<style scoped>\n",
              "    .dataframe tbody tr th:only-of-type {\n",
              "        vertical-align: middle;\n",
              "    }\n",
              "\n",
              "    .dataframe tbody tr th {\n",
              "        vertical-align: top;\n",
              "    }\n",
              "\n",
              "    .dataframe thead th {\n",
              "        text-align: right;\n",
              "    }\n",
              "</style>\n",
              "<table border=\"1\" class=\"dataframe\">\n",
              "  <thead>\n",
              "    <tr style=\"text-align: right;\">\n",
              "      <th></th>\n",
              "      <th>Imports</th>\n",
              "      <th>Exports</th>\n",
              "      <th>Bank Rate</th>\n",
              "      <th>Reverse Repo Rate</th>\n",
              "      <th>364-Day Treasury Bill (Primary) Yield</th>\n",
              "      <th>Consumer Price Index for Industrial Workers</th>\n",
              "      <th>Policy Repo Rate</th>\n",
              "      <th>Cash Reserve Ratio</th>\n",
              "      <th>Deposits</th>\n",
              "    </tr>\n",
              "  </thead>\n",
              "  <tbody>\n",
              "    <tr>\n",
              "      <th>0</th>\n",
              "      <td>27.08</td>\n",
              "      <td>8.64</td>\n",
              "      <td>6.0</td>\n",
              "      <td>7.50</td>\n",
              "      <td>8.35</td>\n",
              "      <td>6.49</td>\n",
              "      <td>8.50</td>\n",
              "      <td>6.0</td>\n",
              "      <td>16.98</td>\n",
              "    </tr>\n",
              "    <tr>\n",
              "      <th>1</th>\n",
              "      <td>35.57</td>\n",
              "      <td>3.08</td>\n",
              "      <td>6.0</td>\n",
              "      <td>7.50</td>\n",
              "      <td>8.45</td>\n",
              "      <td>9.34</td>\n",
              "      <td>8.50</td>\n",
              "      <td>6.0</td>\n",
              "      <td>16.45</td>\n",
              "    </tr>\n",
              "    <tr>\n",
              "      <th>2</th>\n",
              "      <td>26.84</td>\n",
              "      <td>23.85</td>\n",
              "      <td>6.0</td>\n",
              "      <td>7.50</td>\n",
              "      <td>8.68</td>\n",
              "      <td>9.39</td>\n",
              "      <td>8.50</td>\n",
              "      <td>6.0</td>\n",
              "      <td>15.29</td>\n",
              "    </tr>\n",
              "    <tr>\n",
              "      <th>3</th>\n",
              "      <td>34.71</td>\n",
              "      <td>39.91</td>\n",
              "      <td>6.0</td>\n",
              "      <td>7.25</td>\n",
              "      <td>8.46</td>\n",
              "      <td>10.06</td>\n",
              "      <td>8.25</td>\n",
              "      <td>6.0</td>\n",
              "      <td>17.48</td>\n",
              "    </tr>\n",
              "    <tr>\n",
              "      <th>4</th>\n",
              "      <td>47.50</td>\n",
              "      <td>39.54</td>\n",
              "      <td>6.0</td>\n",
              "      <td>7.00</td>\n",
              "      <td>8.31</td>\n",
              "      <td>8.99</td>\n",
              "      <td>8.00</td>\n",
              "      <td>6.0</td>\n",
              "      <td>17.96</td>\n",
              "    </tr>\n",
              "  </tbody>\n",
              "</table>\n",
              "</div>\n",
              "      <button class=\"colab-df-convert\" onclick=\"convertToInteractive('df-0579033a-aa4c-49a2-8556-ef245efb0d3a')\"\n",
              "              title=\"Convert this dataframe to an interactive table.\"\n",
              "              style=\"display:none;\">\n",
              "        \n",
              "  <svg xmlns=\"http://www.w3.org/2000/svg\" height=\"24px\"viewBox=\"0 0 24 24\"\n",
              "       width=\"24px\">\n",
              "    <path d=\"M0 0h24v24H0V0z\" fill=\"none\"/>\n",
              "    <path d=\"M18.56 5.44l.94 2.06.94-2.06 2.06-.94-2.06-.94-.94-2.06-.94 2.06-2.06.94zm-11 1L8.5 8.5l.94-2.06 2.06-.94-2.06-.94L8.5 2.5l-.94 2.06-2.06.94zm10 10l.94 2.06.94-2.06 2.06-.94-2.06-.94-.94-2.06-.94 2.06-2.06.94z\"/><path d=\"M17.41 7.96l-1.37-1.37c-.4-.4-.92-.59-1.43-.59-.52 0-1.04.2-1.43.59L10.3 9.45l-7.72 7.72c-.78.78-.78 2.05 0 2.83L4 21.41c.39.39.9.59 1.41.59.51 0 1.02-.2 1.41-.59l7.78-7.78 2.81-2.81c.8-.78.8-2.07 0-2.86zM5.41 20L4 18.59l7.72-7.72 1.47 1.35L5.41 20z\"/>\n",
              "  </svg>\n",
              "      </button>\n",
              "      \n",
              "  <style>\n",
              "    .colab-df-container {\n",
              "      display:flex;\n",
              "      flex-wrap:wrap;\n",
              "      gap: 12px;\n",
              "    }\n",
              "\n",
              "    .colab-df-convert {\n",
              "      background-color: #E8F0FE;\n",
              "      border: none;\n",
              "      border-radius: 50%;\n",
              "      cursor: pointer;\n",
              "      display: none;\n",
              "      fill: #1967D2;\n",
              "      height: 32px;\n",
              "      padding: 0 0 0 0;\n",
              "      width: 32px;\n",
              "    }\n",
              "\n",
              "    .colab-df-convert:hover {\n",
              "      background-color: #E2EBFA;\n",
              "      box-shadow: 0px 1px 2px rgba(60, 64, 67, 0.3), 0px 1px 3px 1px rgba(60, 64, 67, 0.15);\n",
              "      fill: #174EA6;\n",
              "    }\n",
              "\n",
              "    [theme=dark] .colab-df-convert {\n",
              "      background-color: #3B4455;\n",
              "      fill: #D2E3FC;\n",
              "    }\n",
              "\n",
              "    [theme=dark] .colab-df-convert:hover {\n",
              "      background-color: #434B5C;\n",
              "      box-shadow: 0px 1px 3px 1px rgba(0, 0, 0, 0.15);\n",
              "      filter: drop-shadow(0px 1px 2px rgba(0, 0, 0, 0.3));\n",
              "      fill: #FFFFFF;\n",
              "    }\n",
              "  </style>\n",
              "\n",
              "      <script>\n",
              "        const buttonEl =\n",
              "          document.querySelector('#df-0579033a-aa4c-49a2-8556-ef245efb0d3a button.colab-df-convert');\n",
              "        buttonEl.style.display =\n",
              "          google.colab.kernel.accessAllowed ? 'block' : 'none';\n",
              "\n",
              "        async function convertToInteractive(key) {\n",
              "          const element = document.querySelector('#df-0579033a-aa4c-49a2-8556-ef245efb0d3a');\n",
              "          const dataTable =\n",
              "            await google.colab.kernel.invokeFunction('convertToInteractive',\n",
              "                                                     [key], {});\n",
              "          if (!dataTable) return;\n",
              "\n",
              "          const docLinkHtml = 'Like what you see? Visit the ' +\n",
              "            '<a target=\"_blank\" href=https://colab.research.google.com/notebooks/data_table.ipynb>data table notebook</a>'\n",
              "            + ' to learn more about interactive tables.';\n",
              "          element.innerHTML = '';\n",
              "          dataTable['output_type'] = 'display_data';\n",
              "          await google.colab.output.renderOutput(dataTable, element);\n",
              "          const docLink = document.createElement('div');\n",
              "          docLink.innerHTML = docLinkHtml;\n",
              "          element.appendChild(docLink);\n",
              "        }\n",
              "      </script>\n",
              "    </div>\n",
              "  </div>\n",
              "  "
            ]
          },
          "metadata": {},
          "execution_count": 74
        }
      ]
    },
    {
      "cell_type": "markdown",
      "source": [
        "Normalising the dataset"
      ],
      "metadata": {
        "id": "0HMyvMMU2HP_"
      }
    },
    {
      "cell_type": "code",
      "source": [
        "scaler = StandardScaler()\n",
        "scaler = scaler.fit(df_training)\n",
        "df_training_scaled = scaler.transform(df_training)"
      ],
      "metadata": {
        "id": "9lgcH6k91-1F"
      },
      "execution_count": null,
      "outputs": []
    },
    {
      "cell_type": "code",
      "source": [
        "trainX = []\n",
        "trainY = []"
      ],
      "metadata": {
        "id": "chxtJut92FRz"
      },
      "execution_count": null,
      "outputs": []
    },
    {
      "cell_type": "code",
      "source": [
        "n_future = 1\n",
        "n_past = 12"
      ],
      "metadata": {
        "id": "vZc7_yza3lOL"
      },
      "execution_count": null,
      "outputs": []
    },
    {
      "cell_type": "code",
      "source": [
        "for i in range(n_past,len(df_training_scaled) - n_future +1):\n",
        "  trainX.append(df_training_scaled[i - n_past:i, 0:df_training.shape[1]])\n",
        "  trainY.append(df_training_scaled[i + n_future - 1:i + n_future, 0])\n"
      ],
      "metadata": {
        "id": "RoDWKxzl5FQa"
      },
      "execution_count": null,
      "outputs": []
    },
    {
      "cell_type": "code",
      "source": [
        "trainX, trainY = np.array(trainX), np.array(trainY)"
      ],
      "metadata": {
        "id": "Q54gFZDM567d"
      },
      "execution_count": null,
      "outputs": []
    },
    {
      "cell_type": "code",
      "source": [
        "print('trainX shape == {}.'.format(trainX.shape))\n",
        "print('trainY shape == {}.'.format(trainY.shape))"
      ],
      "metadata": {
        "colab": {
          "base_uri": "https://localhost:8080/"
        },
        "id": "PvNXVViX6L1w",
        "outputId": "feae5c1c-0470-43b2-ba26-c62697bbd4fd"
      },
      "execution_count": null,
      "outputs": [
        {
          "output_type": "stream",
          "name": "stdout",
          "text": [
            "trainX shape == (129, 12, 9).\n",
            "trainY shape == (129, 1).\n"
          ]
        }
      ]
    },
    {
      "cell_type": "markdown",
      "source": [
        "#Defining Autoencoder model"
      ],
      "metadata": {
        "id": "SIQ2GocY6j7U"
      }
    },
    {
      "cell_type": "code",
      "source": [
        "model = Sequential()\n",
        "model.add(LSTM(64, activation='relu', input_shape=(trainX.shape[1], trainX.shape[2]), return_sequences=True))\n",
        "model.add(LSTM(32, activation='relu', return_sequences=False))\n",
        "model.add(Dropout(0.2))\n",
        "model.add(Dense(trainY.shape[1]))"
      ],
      "metadata": {
        "id": "vTG_AhPc6qc1"
      },
      "execution_count": null,
      "outputs": []
    },
    {
      "cell_type": "code",
      "source": [
        "model.compile(optimizer='adam', loss='mse')\n",
        "model.summary()"
      ],
      "metadata": {
        "colab": {
          "base_uri": "https://localhost:8080/"
        },
        "id": "WWzZ7Kh8-ebD",
        "outputId": "5a9e2f84-7eaf-4a21-a46b-1a94ec356dd7"
      },
      "execution_count": null,
      "outputs": [
        {
          "output_type": "stream",
          "name": "stdout",
          "text": [
            "Model: \"sequential_1\"\n",
            "_________________________________________________________________\n",
            " Layer (type)                Output Shape              Param #   \n",
            "=================================================================\n",
            " lstm_2 (LSTM)               (None, 12, 64)            18944     \n",
            "                                                                 \n",
            " lstm_3 (LSTM)               (None, 32)                12416     \n",
            "                                                                 \n",
            " dropout_1 (Dropout)         (None, 32)                0         \n",
            "                                                                 \n",
            " dense_1 (Dense)             (None, 1)                 33        \n",
            "                                                                 \n",
            "=================================================================\n",
            "Total params: 31,393\n",
            "Trainable params: 31,393\n",
            "Non-trainable params: 0\n",
            "_________________________________________________________________\n"
          ]
        }
      ]
    },
    {
      "cell_type": "code",
      "source": [
        "history = model.fit(trainX, trainY, epochs=100, batch_size=16, validation_split=0.1, verbose=1)"
      ],
      "metadata": {
        "colab": {
          "base_uri": "https://localhost:8080/"
        },
        "id": "5pQMHcth-5m7",
        "outputId": "a1f286ab-a9b5-4e97-ef75-03fe88f99c10"
      },
      "execution_count": null,
      "outputs": [
        {
          "output_type": "stream",
          "name": "stdout",
          "text": [
            "Epoch 1/100\n",
            "8/8 [==============================] - 4s 86ms/step - loss: 0.7174 - val_loss: 3.0354\n",
            "Epoch 2/100\n",
            "8/8 [==============================] - 0s 19ms/step - loss: 0.6403 - val_loss: 2.5441\n",
            "Epoch 3/100\n",
            "8/8 [==============================] - 0s 18ms/step - loss: 0.5961 - val_loss: 2.2226\n",
            "Epoch 4/100\n",
            "8/8 [==============================] - 0s 19ms/step - loss: 0.4937 - val_loss: 5.6550\n",
            "Epoch 5/100\n",
            "8/8 [==============================] - 0s 21ms/step - loss: 0.3844 - val_loss: 23.0406\n",
            "Epoch 6/100\n",
            "8/8 [==============================] - 0s 19ms/step - loss: 0.3257 - val_loss: 14.9196\n",
            "Epoch 7/100\n",
            "8/8 [==============================] - 0s 20ms/step - loss: 0.3551 - val_loss: 2.5367\n",
            "Epoch 8/100\n",
            "8/8 [==============================] - 0s 20ms/step - loss: 0.3539 - val_loss: 2.9071\n",
            "Epoch 9/100\n",
            "8/8 [==============================] - 0s 18ms/step - loss: 0.2566 - val_loss: 3.3238\n",
            "Epoch 10/100\n",
            "8/8 [==============================] - 0s 25ms/step - loss: 0.1866 - val_loss: 5.1987\n",
            "Epoch 11/100\n",
            "8/8 [==============================] - 0s 21ms/step - loss: 0.2206 - val_loss: 4.9955\n",
            "Epoch 12/100\n",
            "8/8 [==============================] - 0s 20ms/step - loss: 0.2463 - val_loss: 4.1850\n",
            "Epoch 13/100\n",
            "8/8 [==============================] - 0s 21ms/step - loss: 0.2652 - val_loss: 3.5780\n",
            "Epoch 14/100\n",
            "8/8 [==============================] - 0s 21ms/step - loss: 0.2022 - val_loss: 5.0106\n",
            "Epoch 15/100\n",
            "8/8 [==============================] - 0s 22ms/step - loss: 0.1739 - val_loss: 4.7676\n",
            "Epoch 16/100\n",
            "8/8 [==============================] - 0s 19ms/step - loss: 0.1920 - val_loss: 3.7827\n",
            "Epoch 17/100\n",
            "8/8 [==============================] - 0s 22ms/step - loss: 0.1467 - val_loss: 4.7772\n",
            "Epoch 18/100\n",
            "8/8 [==============================] - 0s 18ms/step - loss: 0.1715 - val_loss: 4.2462\n",
            "Epoch 19/100\n",
            "8/8 [==============================] - 0s 21ms/step - loss: 0.1554 - val_loss: 7.6990\n",
            "Epoch 20/100\n",
            "8/8 [==============================] - 0s 33ms/step - loss: 0.1528 - val_loss: 7.8710\n",
            "Epoch 21/100\n",
            "8/8 [==============================] - 0s 29ms/step - loss: 0.1484 - val_loss: 7.9858\n",
            "Epoch 22/100\n",
            "8/8 [==============================] - 0s 32ms/step - loss: 0.1437 - val_loss: 6.4375\n",
            "Epoch 23/100\n",
            "8/8 [==============================] - 0s 30ms/step - loss: 0.1796 - val_loss: 3.7002\n",
            "Epoch 24/100\n",
            "8/8 [==============================] - 0s 32ms/step - loss: 0.1477 - val_loss: 3.6105\n",
            "Epoch 25/100\n",
            "8/8 [==============================] - 0s 29ms/step - loss: 0.1608 - val_loss: 3.3755\n",
            "Epoch 26/100\n",
            "8/8 [==============================] - 0s 32ms/step - loss: 0.1627 - val_loss: 3.0818\n",
            "Epoch 27/100\n",
            "8/8 [==============================] - 0s 36ms/step - loss: 0.1608 - val_loss: 2.0136\n",
            "Epoch 28/100\n",
            "8/8 [==============================] - 0s 33ms/step - loss: 0.1743 - val_loss: 2.0225\n",
            "Epoch 29/100\n",
            "8/8 [==============================] - 0s 29ms/step - loss: 0.1335 - val_loss: 2.0548\n",
            "Epoch 30/100\n",
            "8/8 [==============================] - 0s 35ms/step - loss: 0.1677 - val_loss: 2.1379\n",
            "Epoch 31/100\n",
            "8/8 [==============================] - 0s 33ms/step - loss: 0.1547 - val_loss: 2.1563\n",
            "Epoch 32/100\n",
            "8/8 [==============================] - 0s 29ms/step - loss: 0.1247 - val_loss: 2.0766\n",
            "Epoch 33/100\n",
            "8/8 [==============================] - 0s 30ms/step - loss: 0.1855 - val_loss: 4.9108\n",
            "Epoch 34/100\n",
            "8/8 [==============================] - 0s 31ms/step - loss: 0.1806 - val_loss: 2.6207\n",
            "Epoch 35/100\n",
            "8/8 [==============================] - 0s 33ms/step - loss: 0.1530 - val_loss: 2.3812\n",
            "Epoch 36/100\n",
            "8/8 [==============================] - 0s 32ms/step - loss: 0.1378 - val_loss: 2.6166\n",
            "Epoch 37/100\n",
            "8/8 [==============================] - 0s 33ms/step - loss: 0.1093 - val_loss: 2.5974\n",
            "Epoch 38/100\n",
            "8/8 [==============================] - 0s 20ms/step - loss: 0.1363 - val_loss: 2.9122\n",
            "Epoch 39/100\n",
            "8/8 [==============================] - 0s 23ms/step - loss: 0.1361 - val_loss: 3.1756\n",
            "Epoch 40/100\n",
            "8/8 [==============================] - 0s 20ms/step - loss: 0.1057 - val_loss: 2.9577\n",
            "Epoch 41/100\n",
            "8/8 [==============================] - 0s 20ms/step - loss: 0.1165 - val_loss: 2.2326\n",
            "Epoch 42/100\n",
            "8/8 [==============================] - 0s 19ms/step - loss: 0.0992 - val_loss: 1.9117\n",
            "Epoch 43/100\n",
            "8/8 [==============================] - 0s 19ms/step - loss: 0.0903 - val_loss: 1.9342\n",
            "Epoch 44/100\n",
            "8/8 [==============================] - 0s 19ms/step - loss: 0.1063 - val_loss: 1.9637\n",
            "Epoch 45/100\n",
            "8/8 [==============================] - 0s 23ms/step - loss: 0.1026 - val_loss: 2.3934\n",
            "Epoch 46/100\n",
            "8/8 [==============================] - 0s 20ms/step - loss: 0.1020 - val_loss: 2.3674\n",
            "Epoch 47/100\n",
            "8/8 [==============================] - 0s 22ms/step - loss: 0.1002 - val_loss: 2.0218\n",
            "Epoch 48/100\n",
            "8/8 [==============================] - 0s 19ms/step - loss: 0.0798 - val_loss: 1.8717\n",
            "Epoch 49/100\n",
            "8/8 [==============================] - 0s 19ms/step - loss: 0.1037 - val_loss: 1.9559\n",
            "Epoch 50/100\n",
            "8/8 [==============================] - 0s 22ms/step - loss: 0.1036 - val_loss: 2.5830\n",
            "Epoch 51/100\n",
            "8/8 [==============================] - 0s 20ms/step - loss: 0.0787 - val_loss: 3.0277\n",
            "Epoch 52/100\n",
            "8/8 [==============================] - 0s 19ms/step - loss: 0.1138 - val_loss: 2.3060\n",
            "Epoch 53/100\n",
            "8/8 [==============================] - 0s 20ms/step - loss: 0.1094 - val_loss: 2.2733\n",
            "Epoch 54/100\n",
            "8/8 [==============================] - 0s 19ms/step - loss: 0.0683 - val_loss: 2.7968\n",
            "Epoch 55/100\n",
            "8/8 [==============================] - 0s 19ms/step - loss: 0.1105 - val_loss: 2.6748\n",
            "Epoch 56/100\n",
            "8/8 [==============================] - 0s 21ms/step - loss: 0.0976 - val_loss: 2.6830\n",
            "Epoch 57/100\n",
            "8/8 [==============================] - 0s 18ms/step - loss: 0.1153 - val_loss: 2.6261\n",
            "Epoch 58/100\n",
            "8/8 [==============================] - 0s 23ms/step - loss: 0.1006 - val_loss: 2.4462\n",
            "Epoch 59/100\n",
            "8/8 [==============================] - 0s 19ms/step - loss: 0.1023 - val_loss: 2.3066\n",
            "Epoch 60/100\n",
            "8/8 [==============================] - 0s 19ms/step - loss: 0.1056 - val_loss: 2.0586\n",
            "Epoch 61/100\n",
            "8/8 [==============================] - 0s 19ms/step - loss: 0.0841 - val_loss: 2.4044\n",
            "Epoch 62/100\n",
            "8/8 [==============================] - 0s 19ms/step - loss: 0.0895 - val_loss: 2.1930\n",
            "Epoch 63/100\n",
            "8/8 [==============================] - 0s 19ms/step - loss: 0.1243 - val_loss: 2.2872\n",
            "Epoch 64/100\n",
            "8/8 [==============================] - 0s 24ms/step - loss: 0.0970 - val_loss: 2.2167\n",
            "Epoch 65/100\n",
            "8/8 [==============================] - 0s 22ms/step - loss: 0.1466 - val_loss: 2.0965\n",
            "Epoch 66/100\n",
            "8/8 [==============================] - 0s 24ms/step - loss: 0.1041 - val_loss: 2.5136\n",
            "Epoch 67/100\n",
            "8/8 [==============================] - 0s 19ms/step - loss: 0.0989 - val_loss: 2.1997\n",
            "Epoch 68/100\n",
            "8/8 [==============================] - 0s 19ms/step - loss: 0.0981 - val_loss: 2.2515\n",
            "Epoch 69/100\n",
            "8/8 [==============================] - 0s 20ms/step - loss: 0.0776 - val_loss: 2.3387\n",
            "Epoch 70/100\n",
            "8/8 [==============================] - 0s 26ms/step - loss: 0.0814 - val_loss: 2.3023\n",
            "Epoch 71/100\n",
            "8/8 [==============================] - 0s 20ms/step - loss: 0.0793 - val_loss: 2.2402\n",
            "Epoch 72/100\n",
            "8/8 [==============================] - 0s 20ms/step - loss: 0.0930 - val_loss: 2.4978\n",
            "Epoch 73/100\n",
            "8/8 [==============================] - 0s 18ms/step - loss: 0.0965 - val_loss: 2.3908\n",
            "Epoch 74/100\n",
            "8/8 [==============================] - 0s 20ms/step - loss: 0.0929 - val_loss: 2.3985\n",
            "Epoch 75/100\n",
            "8/8 [==============================] - 0s 21ms/step - loss: 0.0975 - val_loss: 2.3188\n",
            "Epoch 76/100\n",
            "8/8 [==============================] - 0s 23ms/step - loss: 0.1046 - val_loss: 2.1283\n",
            "Epoch 77/100\n",
            "8/8 [==============================] - 0s 19ms/step - loss: 0.1047 - val_loss: 2.1548\n",
            "Epoch 78/100\n",
            "8/8 [==============================] - 0s 21ms/step - loss: 0.0634 - val_loss: 2.0377\n",
            "Epoch 79/100\n",
            "8/8 [==============================] - 0s 19ms/step - loss: 0.0884 - val_loss: 2.0330\n",
            "Epoch 80/100\n",
            "8/8 [==============================] - 0s 19ms/step - loss: 0.1113 - val_loss: 2.1712\n",
            "Epoch 81/100\n",
            "8/8 [==============================] - 0s 20ms/step - loss: 0.1003 - val_loss: 2.2159\n",
            "Epoch 82/100\n",
            "8/8 [==============================] - 0s 19ms/step - loss: 0.1016 - val_loss: 2.3273\n",
            "Epoch 83/100\n",
            "8/8 [==============================] - 0s 19ms/step - loss: 0.0859 - val_loss: 2.4692\n",
            "Epoch 84/100\n",
            "8/8 [==============================] - 0s 19ms/step - loss: 0.1306 - val_loss: 2.2625\n",
            "Epoch 85/100\n",
            "8/8 [==============================] - 0s 19ms/step - loss: 0.0960 - val_loss: 1.9241\n",
            "Epoch 86/100\n",
            "8/8 [==============================] - 0s 19ms/step - loss: 0.0894 - val_loss: 1.8028\n",
            "Epoch 87/100\n",
            "8/8 [==============================] - 0s 22ms/step - loss: 0.1178 - val_loss: 1.9372\n",
            "Epoch 88/100\n",
            "8/8 [==============================] - 0s 23ms/step - loss: 0.0883 - val_loss: 1.9938\n",
            "Epoch 89/100\n",
            "8/8 [==============================] - 0s 22ms/step - loss: 0.1171 - val_loss: 1.9583\n",
            "Epoch 90/100\n",
            "8/8 [==============================] - 0s 20ms/step - loss: 0.0844 - val_loss: 2.0762\n",
            "Epoch 91/100\n",
            "8/8 [==============================] - 0s 20ms/step - loss: 0.0924 - val_loss: 2.3103\n",
            "Epoch 92/100\n",
            "8/8 [==============================] - 0s 19ms/step - loss: 0.0936 - val_loss: 1.9359\n",
            "Epoch 93/100\n",
            "8/8 [==============================] - 0s 21ms/step - loss: 0.0887 - val_loss: 1.8990\n",
            "Epoch 94/100\n",
            "8/8 [==============================] - 0s 20ms/step - loss: 0.0718 - val_loss: 1.9790\n",
            "Epoch 95/100\n",
            "8/8 [==============================] - 0s 23ms/step - loss: 0.0868 - val_loss: 2.0819\n",
            "Epoch 96/100\n",
            "8/8 [==============================] - 0s 20ms/step - loss: 0.0827 - val_loss: 2.3239\n",
            "Epoch 97/100\n",
            "8/8 [==============================] - 0s 22ms/step - loss: 0.0816 - val_loss: 2.4148\n",
            "Epoch 98/100\n",
            "8/8 [==============================] - 0s 29ms/step - loss: 0.0887 - val_loss: 2.0543\n",
            "Epoch 99/100\n",
            "8/8 [==============================] - 0s 32ms/step - loss: 0.0700 - val_loss: 2.4557\n",
            "Epoch 100/100\n",
            "8/8 [==============================] - 0s 30ms/step - loss: 0.0959 - val_loss: 2.5172\n"
          ]
        }
      ]
    },
    {
      "cell_type": "code",
      "source": [
        "from matplotlib import pyplot as plt"
      ],
      "metadata": {
        "id": "yABTwm_YY300"
      },
      "execution_count": null,
      "outputs": []
    },
    {
      "cell_type": "code",
      "source": [
        "plt.plot(history.history['loss'], label='Training loss')\n",
        "plt.plot(history.history['val_loss'], label='Validation loss')\n",
        "plt.legend()"
      ],
      "metadata": {
        "colab": {
          "base_uri": "https://localhost:8080/",
          "height": 282
        },
        "id": "FVkaXTgWAh7f",
        "outputId": "a8e1c9d6-2551-4396-863f-bd593c7eba50"
      },
      "execution_count": null,
      "outputs": [
        {
          "output_type": "execute_result",
          "data": {
            "text/plain": [
              "<matplotlib.legend.Legend at 0x7f4ff57c6a30>"
            ]
          },
          "metadata": {},
          "execution_count": 86
        },
        {
          "output_type": "display_data",
          "data": {
            "text/plain": [
              "<Figure size 432x288 with 1 Axes>"
            ],
            "image/png": "[encoded data removed]"
          },
          "metadata": {
            "needs_background": "light"
          }
        }
      ]
    },
    {
      "cell_type": "code",
      "source": [
        "n_past = 16\n",
        "n_days_for_prediction=15"
      ],
      "metadata": {
        "id": "f9v9YgUBBFV3"
      },
      "execution_count": null,
      "outputs": []
    },
    {
      "cell_type": "code",
      "source": [
        "predict_period_dates = pd.date_range(list(train_date)[-n_past], periods=n_days_for_prediction, freq='1m').tolist()\n",
        "print(predict_period_dates)\n",
        "\n",
        "#Make prediction"
      ],
      "metadata": {
        "colab": {
          "base_uri": "https://localhost:8080/"
        },
        "id": "oHutZCF7C3Qs",
        "outputId": "6dd5ad33-b3d7-4807-832b-382ff7b83a4e"
      },
      "execution_count": null,
      "outputs": [
        {
          "output_type": "stream",
          "name": "stdout",
          "text": [
            "[Timestamp('2021-07-31 00:00:00', freq='M'), Timestamp('2021-08-31 00:00:00', freq='M'), Timestamp('2021-09-30 00:00:00', freq='M'), Timestamp('2021-10-31 00:00:00', freq='M'), Timestamp('2021-11-30 00:00:00', freq='M'), Timestamp('2021-12-31 00:00:00', freq='M'), Timestamp('2022-01-31 00:00:00', freq='M'), Timestamp('2022-02-28 00:00:00', freq='M'), Timestamp('2022-03-31 00:00:00', freq='M'), Timestamp('2022-04-30 00:00:00', freq='M'), Timestamp('2022-05-31 00:00:00', freq='M'), Timestamp('2022-06-30 00:00:00', freq='M'), Timestamp('2022-07-31 00:00:00', freq='M'), Timestamp('2022-08-31 00:00:00', freq='M'), Timestamp('2022-09-30 00:00:00', freq='M')]\n"
          ]
        }
      ]
    },
    {
      "cell_type": "code",
      "source": [
        "prediction = model.predict(trainX[-n_days_for_prediction:]) #shape = (n, 1) where n is the n_days_for_prediction"
      ],
      "metadata": {
        "colab": {
          "base_uri": "https://localhost:8080/"
        },
        "id": "Gav9ovlkZ1VG",
        "outputId": "ed9f37c7-1e53-42d2-c17f-488c07567482"
      },
      "execution_count": null,
      "outputs": [
        {
          "output_type": "stream",
          "name": "stdout",
          "text": [
            "1/1 [==============================] - 0s 380ms/step\n"
          ]
        }
      ]
    },
    {
      "cell_type": "code",
      "source": [
        "prediction_copies = np.repeat(prediction, df_training.shape[1], axis=-1)\n",
        "y_pred_future = scaler.inverse_transform(prediction_copies)[:,0]"
      ],
      "metadata": {
        "id": "EjFcNZpTDZbe"
      },
      "execution_count": null,
      "outputs": []
    },
    {
      "cell_type": "code",
      "source": [
        "forecast_dates = []\n",
        "for time_i in predict_period_dates:\n",
        "    forecast_dates.append(time_i.date())"
      ],
      "metadata": {
        "id": "Jc_wBna7ZxdM"
      },
      "execution_count": null,
      "outputs": []
    },
    {
      "cell_type": "code",
      "source": [
        "df_forecast = pd.DataFrame({'Date':np.array(forecast_dates), 'Policy Repo Rate':y_pred_future})\n",
        "df_forecast['Date']=pd.to_datetime(df_forecast['Date'])"
      ],
      "metadata": {
        "id": "tqPGwRd7aBsl"
      },
      "execution_count": null,
      "outputs": []
    },
    {
      "cell_type": "code",
      "source": [
        "original = df[['Date', 'Policy Repo Rate']]\n",
        "original['Date']=pd.to_datetime(original['Date'])\n",
        "original = original.loc[original['Date'] >= '2013-01-01']"
      ],
      "metadata": {
        "colab": {
          "base_uri": "https://localhost:8080/"
        },
        "id": "Hn0UFIIFaEgY",
        "outputId": "30f2f472-2fef-4e87-ceca-a4ae21321f12"
      },
      "execution_count": null,
      "outputs": [
        {
          "output_type": "stream",
          "name": "stderr",
          "text": [
            "<ipython-input-93-16db38d07ad7>:2: SettingWithCopyWarning: \n",
            "A value is trying to be set on a copy of a slice from a DataFrame.\n",
            "Try using .loc[row_indexer,col_indexer] = value instead\n",
            "\n",
            "See the caveats in the documentation: https://pandas.pydata.org/pandas-docs/stable/user_guide/indexing.html#returning-a-view-versus-a-copy\n",
            "  original['Date']=pd.to_datetime(original['Date'])\n"
          ]
        }
      ]
    },
    {
      "cell_type": "code",
      "source": [
        "original.head()"
      ],
      "metadata": {
        "colab": {
          "base_uri": "https://localhost:8080/",
          "height": 215
        },
        "id": "9TBXl0SqdLa1",
        "outputId": "da55c660-e83c-4fc7-b3ca-595fb99bda43"
      },
      "execution_count": null,
      "outputs": [
        {
          "output_type": "execute_result",
          "data": {
            "text/plain": [
              "         Date  Policy Repo Rate\n",
              "24 2013-12-01              7.75\n",
              "25 2013-11-01              7.75\n",
              "26 2013-10-01              7.75\n",
              "27 2013-09-01              7.50\n",
              "28 2013-08-01              7.25"
            ],
            "text/html": [
              "\n",
              "  <div id=\"df-701ad70a-26fe-47d8-92b9-447e837cc521\">\n",
              "    <div class=\"colab-df-container\">\n",
              "      <div>\n",
              "<style scoped>\n",
              "    .dataframe tbody tr th:only-of-type {\n",
              "        vertical-align: middle;\n",
              "    }\n",
              "\n",
              "    .dataframe tbody tr th {\n",
              "        vertical-align: top;\n",
              "    }\n",
              "\n",
              "    .dataframe thead th {\n",
              "        text-align: right;\n",
              "    }\n",
              "</style>\n",
              "<table border=\"1\" class=\"dataframe\">\n",
              "  <thead>\n",
              "    <tr style=\"text-align: right;\">\n",
              "      <th></th>\n",
              "      <th>Date</th>\n",
              "      <th>Policy Repo Rate</th>\n",
              "    </tr>\n",
              "  </thead>\n",
              "  <tbody>\n",
              "    <tr>\n",
              "      <th>24</th>\n",
              "      <td>2013-12-01</td>\n",
              "      <td>7.75</td>\n",
              "    </tr>\n",
              "    <tr>\n",
              "      <th>25</th>\n",
              "      <td>2013-11-01</td>\n",
              "      <td>7.75</td>\n",
              "    </tr>\n",
              "    <tr>\n",
              "      <th>26</th>\n",
              "      <td>2013-10-01</td>\n",
              "      <td>7.75</td>\n",
              "    </tr>\n",
              "    <tr>\n",
              "      <th>27</th>\n",
              "      <td>2013-09-01</td>\n",
              "      <td>7.50</td>\n",
              "    </tr>\n",
              "    <tr>\n",
              "      <th>28</th>\n",
              "      <td>2013-08-01</td>\n",
              "      <td>7.25</td>\n",
              "    </tr>\n",
              "  </tbody>\n",
              "</table>\n",
              "</div>\n",
              "      <button class=\"colab-df-convert\" onclick=\"convertToInteractive('df-701ad70a-26fe-47d8-92b9-447e837cc521')\"\n",
              "              title=\"Convert this dataframe to an interactive table.\"\n",
              "              style=\"display:none;\">\n",
              "        \n",
              "  <svg xmlns=\"http://www.w3.org/2000/svg\" height=\"24px\"viewBox=\"0 0 24 24\"\n",
              "       width=\"24px\">\n",
              "    <path d=\"M0 0h24v24H0V0z\" fill=\"none\"/>\n",
              "    <path d=\"M18.56 5.44l.94 2.06.94-2.06 2.06-.94-2.06-.94-.94-2.06-.94 2.06-2.06.94zm-11 1L8.5 8.5l.94-2.06 2.06-.94-2.06-.94L8.5 2.5l-.94 2.06-2.06.94zm10 10l.94 2.06.94-2.06 2.06-.94-2.06-.94-.94-2.06-.94 2.06-2.06.94z\"/><path d=\"M17.41 7.96l-1.37-1.37c-.4-.4-.92-.59-1.43-.59-.52 0-1.04.2-1.43.59L10.3 9.45l-7.72 7.72c-.78.78-.78 2.05 0 2.83L4 21.41c.39.39.9.59 1.41.59.51 0 1.02-.2 1.41-.59l7.78-7.78 2.81-2.81c.8-.78.8-2.07 0-2.86zM5.41 20L4 18.59l7.72-7.72 1.47 1.35L5.41 20z\"/>\n",
              "  </svg>\n",
              "      </button>\n",
              "      \n",
              "  <style>\n",
              "    .colab-df-container {\n",
              "      display:flex;\n",
              "      flex-wrap:wrap;\n",
              "      gap: 12px;\n",
              "    }\n",
              "\n",
              "    .colab-df-convert {\n",
              "      background-color: #E8F0FE;\n",
              "      border: none;\n",
              "      border-radius: 50%;\n",
              "      cursor: pointer;\n",
              "      display: none;\n",
              "      fill: #1967D2;\n",
              "      height: 32px;\n",
              "      padding: 0 0 0 0;\n",
              "      width: 32px;\n",
              "    }\n",
              "\n",
              "    .colab-df-convert:hover {\n",
              "      background-color: #E2EBFA;\n",
              "      box-shadow: 0px 1px 2px rgba(60, 64, 67, 0.3), 0px 1px 3px 1px rgba(60, 64, 67, 0.15);\n",
              "      fill: #174EA6;\n",
              "    }\n",
              "\n",
              "    [theme=dark] .colab-df-convert {\n",
              "      background-color: #3B4455;\n",
              "      fill: #D2E3FC;\n",
              "    }\n",
              "\n",
              "    [theme=dark] .colab-df-convert:hover {\n",
              "      background-color: #434B5C;\n",
              "      box-shadow: 0px 1px 3px 1px rgba(0, 0, 0, 0.15);\n",
              "      filter: drop-shadow(0px 1px 2px rgba(0, 0, 0, 0.3));\n",
              "      fill: #FFFFFF;\n",
              "    }\n",
              "  </style>\n",
              "\n",
              "      <script>\n",
              "        const buttonEl =\n",
              "          document.querySelector('#df-701ad70a-26fe-47d8-92b9-447e837cc521 button.colab-df-convert');\n",
              "        buttonEl.style.display =\n",
              "          google.colab.kernel.accessAllowed ? 'block' : 'none';\n",
              "\n",
              "        async function convertToInteractive(key) {\n",
              "          const element = document.querySelector('#df-701ad70a-26fe-47d8-92b9-447e837cc521');\n",
              "          const dataTable =\n",
              "            await google.colab.kernel.invokeFunction('convertToInteractive',\n",
              "                                                     [key], {});\n",
              "          if (!dataTable) return;\n",
              "\n",
              "          const docLinkHtml = 'Like what you see? Visit the ' +\n",
              "            '<a target=\"_blank\" href=https://colab.research.google.com/notebooks/data_table.ipynb>data table notebook</a>'\n",
              "            + ' to learn more about interactive tables.';\n",
              "          element.innerHTML = '';\n",
              "          dataTable['output_type'] = 'display_data';\n",
              "          await google.colab.output.renderOutput(dataTable, element);\n",
              "          const docLink = document.createElement('div');\n",
              "          docLink.innerHTML = docLinkHtml;\n",
              "          element.appendChild(docLink);\n",
              "        }\n",
              "      </script>\n",
              "    </div>\n",
              "  </div>\n",
              "  "
            ]
          },
          "metadata": {},
          "execution_count": 94
        }
      ]
    },
    {
      "cell_type": "code",
      "source": [
        "original.tail()"
      ],
      "metadata": {
        "colab": {
          "base_uri": "https://localhost:8080/",
          "height": 215
        },
        "id": "6KLdyLHnFCI8",
        "outputId": "ecfd227a-fcee-475c-c968-47733b69171f"
      },
      "execution_count": null,
      "outputs": [
        {
          "output_type": "execute_result",
          "data": {
            "text/plain": [
              "          Date  Policy Repo Rate\n",
              "136 2022-05-01               4.4\n",
              "137 2022-04-01               4.0\n",
              "138 2022-03-01               4.0\n",
              "139 2022-02-01               4.0\n",
              "140 2022-01-01               4.0"
            ],
            "text/html": [
              "\n",
              "  <div id=\"df-20685754-35e1-44ce-b784-3ad6125507bb\">\n",
              "    <div class=\"colab-df-container\">\n",
              "      <div>\n",
              "<style scoped>\n",
              "    .dataframe tbody tr th:only-of-type {\n",
              "        vertical-align: middle;\n",
              "    }\n",
              "\n",
              "    .dataframe tbody tr th {\n",
              "        vertical-align: top;\n",
              "    }\n",
              "\n",
              "    .dataframe thead th {\n",
              "        text-align: right;\n",
              "    }\n",
              "</style>\n",
              "<table border=\"1\" class=\"dataframe\">\n",
              "  <thead>\n",
              "    <tr style=\"text-align: right;\">\n",
              "      <th></th>\n",
              "      <th>Date</th>\n",
              "      <th>Policy Repo Rate</th>\n",
              "    </tr>\n",
              "  </thead>\n",
              "  <tbody>\n",
              "    <tr>\n",
              "      <th>136</th>\n",
              "      <td>2022-05-01</td>\n",
              "      <td>4.4</td>\n",
              "    </tr>\n",
              "    <tr>\n",
              "      <th>137</th>\n",
              "      <td>2022-04-01</td>\n",
              "      <td>4.0</td>\n",
              "    </tr>\n",
              "    <tr>\n",
              "      <th>138</th>\n",
              "      <td>2022-03-01</td>\n",
              "      <td>4.0</td>\n",
              "    </tr>\n",
              "    <tr>\n",
              "      <th>139</th>\n",
              "      <td>2022-02-01</td>\n",
              "      <td>4.0</td>\n",
              "    </tr>\n",
              "    <tr>\n",
              "      <th>140</th>\n",
              "      <td>2022-01-01</td>\n",
              "      <td>4.0</td>\n",
              "    </tr>\n",
              "  </tbody>\n",
              "</table>\n",
              "</div>\n",
              "      <button class=\"colab-df-convert\" onclick=\"convertToInteractive('df-20685754-35e1-44ce-b784-3ad6125507bb')\"\n",
              "              title=\"Convert this dataframe to an interactive table.\"\n",
              "              style=\"display:none;\">\n",
              "        \n",
              "  <svg xmlns=\"http://www.w3.org/2000/svg\" height=\"24px\"viewBox=\"0 0 24 24\"\n",
              "       width=\"24px\">\n",
              "    <path d=\"M0 0h24v24H0V0z\" fill=\"none\"/>\n",
              "    <path d=\"M18.56 5.44l.94 2.06.94-2.06 2.06-.94-2.06-.94-.94-2.06-.94 2.06-2.06.94zm-11 1L8.5 8.5l.94-2.06 2.06-.94-2.06-.94L8.5 2.5l-.94 2.06-2.06.94zm10 10l.94 2.06.94-2.06 2.06-.94-2.06-.94-.94-2.06-.94 2.06-2.06.94z\"/><path d=\"M17.41 7.96l-1.37-1.37c-.4-.4-.92-.59-1.43-.59-.52 0-1.04.2-1.43.59L10.3 9.45l-7.72 7.72c-.78.78-.78 2.05 0 2.83L4 21.41c.39.39.9.59 1.41.59.51 0 1.02-.2 1.41-.59l7.78-7.78 2.81-2.81c.8-.78.8-2.07 0-2.86zM5.41 20L4 18.59l7.72-7.72 1.47 1.35L5.41 20z\"/>\n",
              "  </svg>\n",
              "      </button>\n",
              "      \n",
              "  <style>\n",
              "    .colab-df-container {\n",
              "      display:flex;\n",
              "      flex-wrap:wrap;\n",
              "      gap: 12px;\n",
              "    }\n",
              "\n",
              "    .colab-df-convert {\n",
              "      background-color: #E8F0FE;\n",
              "      border: none;\n",
              "      border-radius: 50%;\n",
              "      cursor: pointer;\n",
              "      display: none;\n",
              "      fill: #1967D2;\n",
              "      height: 32px;\n",
              "      padding: 0 0 0 0;\n",
              "      width: 32px;\n",
              "    }\n",
              "\n",
              "    .colab-df-convert:hover {\n",
              "      background-color: #E2EBFA;\n",
              "      box-shadow: 0px 1px 2px rgba(60, 64, 67, 0.3), 0px 1px 3px 1px rgba(60, 64, 67, 0.15);\n",
              "      fill: #174EA6;\n",
              "    }\n",
              "\n",
              "    [theme=dark] .colab-df-convert {\n",
              "      background-color: #3B4455;\n",
              "      fill: #D2E3FC;\n",
              "    }\n",
              "\n",
              "    [theme=dark] .colab-df-convert:hover {\n",
              "      background-color: #434B5C;\n",
              "      box-shadow: 0px 1px 3px 1px rgba(0, 0, 0, 0.15);\n",
              "      filter: drop-shadow(0px 1px 2px rgba(0, 0, 0, 0.3));\n",
              "      fill: #FFFFFF;\n",
              "    }\n",
              "  </style>\n",
              "\n",
              "      <script>\n",
              "        const buttonEl =\n",
              "          document.querySelector('#df-20685754-35e1-44ce-b784-3ad6125507bb button.colab-df-convert');\n",
              "        buttonEl.style.display =\n",
              "          google.colab.kernel.accessAllowed ? 'block' : 'none';\n",
              "\n",
              "        async function convertToInteractive(key) {\n",
              "          const element = document.querySelector('#df-20685754-35e1-44ce-b784-3ad6125507bb');\n",
              "          const dataTable =\n",
              "            await google.colab.kernel.invokeFunction('convertToInteractive',\n",
              "                                                     [key], {});\n",
              "          if (!dataTable) return;\n",
              "\n",
              "          const docLinkHtml = 'Like what you see? Visit the ' +\n",
              "            '<a target=\"_blank\" href=https://colab.research.google.com/notebooks/data_table.ipynb>data table notebook</a>'\n",
              "            + ' to learn more about interactive tables.';\n",
              "          element.innerHTML = '';\n",
              "          dataTable['output_type'] = 'display_data';\n",
              "          await google.colab.output.renderOutput(dataTable, element);\n",
              "          const docLink = document.createElement('div');\n",
              "          docLink.innerHTML = docLinkHtml;\n",
              "          element.appendChild(docLink);\n",
              "        }\n",
              "      </script>\n",
              "    </div>\n",
              "  </div>\n",
              "  "
            ]
          },
          "metadata": {},
          "execution_count": 97
        }
      ]
    },
    {
      "cell_type": "code",
      "source": [
        "original['Policy Repo Rate'].dtype.kind in 'iufc'"
      ],
      "metadata": {
        "colab": {
          "base_uri": "https://localhost:8080/"
        },
        "id": "-zfsQtyB1q8c",
        "outputId": "35cd0d27-aa53-4a4e-bebd-4d3ea7b945b4"
      },
      "execution_count": null,
      "outputs": [
        {
          "output_type": "execute_result",
          "data": {
            "text/plain": [
              "True"
            ]
          },
          "metadata": {},
          "execution_count": 95
        }
      ]
    },
    {
      "cell_type": "code",
      "source": [
        "sns.lineplot(original['Date'], original['Policy Repo Rate'])\n",
        "sns.lineplot(df_forecast['Date'], df_forecast['Policy Repo Rate'])"
      ],
      "metadata": {
        "colab": {
          "base_uri": "https://localhost:8080/",
          "height": 384
        },
        "id": "XuJDgQ1gbWm2",
        "outputId": "3666be41-0f01-4d0a-a687-29e52a5dc79e"
      },
      "execution_count": null,
      "outputs": [
        {
          "output_type": "stream",
          "name": "stderr",
          "text": [
            "/usr/local/lib/python3.8/dist-packages/seaborn/_decorators.py:36: FutureWarning: Pass the following variables as keyword args: x, y. From version 0.12, the only valid positional argument will be `data`, and passing other arguments without an explicit keyword will result in an error or misinterpretation.\n",
            "  warnings.warn(\n",
            "/usr/local/lib/python3.8/dist-packages/seaborn/_decorators.py:36: FutureWarning: Pass the following variables as keyword args: x, y. From version 0.12, the only valid positional argument will be `data`, and passing other arguments without an explicit keyword will result in an error or misinterpretation.\n",
            "  warnings.warn(\n"
          ]
        },
        {
          "output_type": "execute_result",
          "data": {
            "text/plain": [
              "<AxesSubplot:xlabel='Date', ylabel='Policy Repo Rate'>"
            ]
          },
          "metadata": {},
          "execution_count": 96
        },
        {
          "output_type": "display_data",
          "data": {
            "text/plain": [
              "<Figure size 432x288 with 1 Axes>"
            ],
            "image/png": "[encoded data removed]"
          },
          "metadata": {
            "needs_background": "light"
          }
        }
      ]
    },
    {
      "cell_type": "code",
      "source": [],
      "metadata": {
        "id": "nVOOQA-aFyG0"
      },
      "execution_count": null,
      "outputs": []
    }
  ]
}